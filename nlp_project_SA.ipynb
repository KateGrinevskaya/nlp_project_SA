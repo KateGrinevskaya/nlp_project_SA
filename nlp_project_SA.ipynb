{
  "cells": [
    {
      "cell_type": "code",
      "execution_count": null,
      "metadata": {
        "colab": {
          "base_uri": "https://localhost:8080/"
        },
        "id": "rwRcUbbNKFhS",
        "outputId": "2ffb93c5-8efc-4f5a-cd66-650cb03b025c"
      },
      "outputs": [
        {
          "name": "stdout",
          "output_type": "stream",
          "text": [
            "Collecting stanza\n",
            "  Downloading stanza-1.3.0-py3-none-any.whl (432 kB)\n",
            "\u001b[K     |████████████████████████████████| 432 kB 5.3 MB/s \n",
            "\u001b[?25hCollecting emoji\n",
            "  Downloading emoji-1.6.1.tar.gz (170 kB)\n",
            "\u001b[K     |████████████████████████████████| 170 kB 29.8 MB/s \n",
            "\u001b[?25hRequirement already satisfied: torch>=1.3.0 in /usr/local/lib/python3.7/dist-packages (from stanza) (1.10.0+cu111)\n",
            "Requirement already satisfied: requests in /usr/local/lib/python3.7/dist-packages (from stanza) (2.23.0)\n",
            "Requirement already satisfied: six in /usr/local/lib/python3.7/dist-packages (from stanza) (1.15.0)\n",
            "Requirement already satisfied: tqdm in /usr/local/lib/python3.7/dist-packages (from stanza) (4.62.3)\n",
            "Requirement already satisfied: numpy in /usr/local/lib/python3.7/dist-packages (from stanza) (1.19.5)\n",
            "Requirement already satisfied: protobuf in /usr/local/lib/python3.7/dist-packages (from stanza) (3.17.3)\n",
            "Requirement already satisfied: typing-extensions in /usr/local/lib/python3.7/dist-packages (from torch>=1.3.0->stanza) (3.10.0.2)\n",
            "Requirement already satisfied: idna<3,>=2.5 in /usr/local/lib/python3.7/dist-packages (from requests->stanza) (2.10)\n",
            "Requirement already satisfied: urllib3!=1.25.0,!=1.25.1,<1.26,>=1.21.1 in /usr/local/lib/python3.7/dist-packages (from requests->stanza) (1.24.3)\n",
            "Requirement already satisfied: chardet<4,>=3.0.2 in /usr/local/lib/python3.7/dist-packages (from requests->stanza) (3.0.4)\n",
            "Requirement already satisfied: certifi>=2017.4.17 in /usr/local/lib/python3.7/dist-packages (from requests->stanza) (2021.10.8)\n",
            "Building wheels for collected packages: emoji\n",
            "  Building wheel for emoji (setup.py) ... \u001b[?25l\u001b[?25hdone\n",
            "  Created wheel for emoji: filename=emoji-1.6.1-py3-none-any.whl size=169314 sha256=81951c4ef23298fa1903bdcb7bf332aee040160672856311e9fa3a7094ad1ed1\n",
            "  Stored in directory: /root/.cache/pip/wheels/ea/5f/d3/03d313ddb3c2a1a427bb4690f1621eea60fe6f2a30cc95940f\n",
            "Successfully built emoji\n",
            "Installing collected packages: emoji, stanza\n",
            "Successfully installed emoji-1.6.1 stanza-1.3.0\n"
          ]
        }
      ],
      "source": [
        "!pip install stanza"
      ]
    },
    {
      "cell_type": "code",
      "execution_count": null,
      "metadata": {
        "colab": {
          "base_uri": "https://localhost:8080/"
        },
        "id": "fEd1wzbVUJ-8",
        "outputId": "8b3af551-0e51-4d6d-b802-f75d1e86a792"
      },
      "outputs": [
        {
          "name": "stdout",
          "output_type": "stream",
          "text": [
            "Collecting sklearn_crfsuite\n",
            "  Downloading sklearn_crfsuite-0.3.6-py2.py3-none-any.whl (12 kB)\n",
            "Requirement already satisfied: tqdm>=2.0 in /usr/local/lib/python3.7/dist-packages (from sklearn_crfsuite) (4.62.3)\n",
            "Collecting python-crfsuite>=0.8.3\n",
            "  Downloading python_crfsuite-0.9.7-cp37-cp37m-manylinux1_x86_64.whl (743 kB)\n",
            "\u001b[K     |████████████████████████████████| 743 kB 5.0 MB/s \n",
            "\u001b[?25hRequirement already satisfied: tabulate in /usr/local/lib/python3.7/dist-packages (from sklearn_crfsuite) (0.8.9)\n",
            "Requirement already satisfied: six in /usr/local/lib/python3.7/dist-packages (from sklearn_crfsuite) (1.15.0)\n",
            "Installing collected packages: python-crfsuite, sklearn-crfsuite\n",
            "Successfully installed python-crfsuite-0.9.7 sklearn-crfsuite-0.3.6\n"
          ]
        }
      ],
      "source": [
        "!pip install sklearn_crfsuite"
      ]
    },
    {
      "cell_type": "code",
      "execution_count": null,
      "metadata": {
        "colab": {
          "base_uri": "https://localhost:8080/"
        },
        "id": "PdVY-8zCcJVm",
        "outputId": "9076634f-bba0-47b4-cfab-c9b69f66b781"
      },
      "outputs": [
        {
          "name": "stdout",
          "output_type": "stream",
          "text": [
            "Collecting scikit-learn<0.24\n",
            "  Downloading scikit_learn-0.23.2-cp37-cp37m-manylinux1_x86_64.whl (6.8 MB)\n",
            "\u001b[K     |████████████████████████████████| 6.8 MB 5.4 MB/s \n",
            "\u001b[?25hRequirement already satisfied: numpy>=1.13.3 in /usr/local/lib/python3.7/dist-packages (from scikit-learn<0.24) (1.19.5)\n",
            "Requirement already satisfied: scipy>=0.19.1 in /usr/local/lib/python3.7/dist-packages (from scikit-learn<0.24) (1.4.1)\n",
            "Requirement already satisfied: joblib>=0.11 in /usr/local/lib/python3.7/dist-packages (from scikit-learn<0.24) (1.1.0)\n",
            "Requirement already satisfied: threadpoolctl>=2.0.0 in /usr/local/lib/python3.7/dist-packages (from scikit-learn<0.24) (3.0.0)\n",
            "Installing collected packages: scikit-learn\n",
            "  Attempting uninstall: scikit-learn\n",
            "    Found existing installation: scikit-learn 1.0.1\n",
            "    Uninstalling scikit-learn-1.0.1:\n",
            "      Successfully uninstalled scikit-learn-1.0.1\n",
            "\u001b[31mERROR: pip's dependency resolver does not currently take into account all the packages that are installed. This behaviour is the source of the following dependency conflicts.\n",
            "imbalanced-learn 0.8.1 requires scikit-learn>=0.24, but you have scikit-learn 0.23.2 which is incompatible.\u001b[0m\n",
            "Successfully installed scikit-learn-0.23.2\n"
          ]
        }
      ],
      "source": [
        "!pip install -U 'scikit-learn<0.24'"
      ]
    },
    {
      "cell_type": "code",
      "execution_count": null,
      "metadata": {
        "colab": {
          "base_uri": "https://localhost:8080/",
          "height": 319,
          "referenced_widgets": [
            "555b4fe513754fb98599270b7dfa0a8c",
            "717d9ff1b8e54d4f9238ec6e353f1e57",
            "a6e54ffd2d9842389b5a63360497a2f1",
            "5591714301ee487794560dbcec67ff5e",
            "9d940a2cf2a449d9968623c2bb114535",
            "4df5566ae71647988025e5ef69c2abf0",
            "e4827eb3804e4e54a6892897124bd7d1",
            "4e7aa84a0309493aabc4db86f4f47514",
            "8c6e6ecc1c5b4c7584a6dc12db6fe82c",
            "4ce130f864bb432c9aabd0464eda4f0e",
            "5ddebad2fc174e8abdd9b7868a0f155d",
            "d1f11b39d3834fbd85ac4b279c1f6620",
            "832c0a5f07ba4944ac0312300d09226f",
            "9d217c032687496f85b911df424cb86a",
            "3b37d81076244f968b91a3f30ae8f0b8",
            "a6f0f4c3a8a24409a1615151245c46f2",
            "e2a861ebea70404c8f516c3ad5744e81",
            "34c608c21ab94a4293c37cc6c6549fa4",
            "991832c2de0d47cf887b4fff04a25abd",
            "40f20a34105f43e481d9d0fc3f2f6132",
            "3c3e405a9ea44cb081379bf0ef9e571d",
            "bc20210c81ce42d2a5b092cc22b73eda"
          ]
        },
        "id": "FvChtY9up3DU",
        "outputId": "e8329671-cd92-42cb-ce0d-255f42ee31b4"
      },
      "outputs": [
        {
          "data": {
            "application/vnd.jupyter.widget-view+json": {
              "model_id": "555b4fe513754fb98599270b7dfa0a8c",
              "version_major": 2,
              "version_minor": 0
            },
            "text/plain": [
              "Downloading https://raw.githubusercontent.com/stanfordnlp/stanza-resources/main/resources_1.3.0.json:   0%|   …"
            ]
          },
          "metadata": {},
          "output_type": "display_data"
        },
        {
          "name": "stderr",
          "output_type": "stream",
          "text": [
            "2021-12-26 21:21:59 INFO: Downloading default packages for language: ru (Russian)...\n"
          ]
        },
        {
          "data": {
            "application/vnd.jupyter.widget-view+json": {
              "model_id": "d1f11b39d3834fbd85ac4b279c1f6620",
              "version_major": 2,
              "version_minor": 0
            },
            "text/plain": [
              "Downloading https://huggingface.co/stanfordnlp/stanza-ru/resolve/v1.3.0/models/default.zip:   0%|          | 0…"
            ]
          },
          "metadata": {},
          "output_type": "display_data"
        },
        {
          "name": "stderr",
          "output_type": "stream",
          "text": [
            "2021-12-26 21:22:16 INFO: Finished downloading models and saved to /root/stanza_resources.\n",
            "2021-12-26 21:22:16 INFO: Loading these models for language: ru (Russian):\n",
            "=========================\n",
            "| Processor | Package   |\n",
            "-------------------------\n",
            "| tokenize  | syntagrus |\n",
            "| pos       | syntagrus |\n",
            "=========================\n",
            "\n",
            "2021-12-26 21:22:16 INFO: Use device: gpu\n",
            "2021-12-26 21:22:16 INFO: Loading: tokenize\n",
            "2021-12-26 21:22:27 INFO: Loading: pos\n",
            "2021-12-26 21:22:28 INFO: Done loading processors!\n"
          ]
        }
      ],
      "source": [
        "from sklearn.model_selection import train_test_split\n",
        "import stanza\n",
        "from collections import defaultdict\n",
        "from tqdm.notebook import tqdm\n",
        "import sklearn_crfsuite\n",
        "from sklearn_crfsuite import scorers\n",
        "from sklearn_crfsuite import metrics\n",
        "from sklearn.model_selection import cross_val_score\n",
        "from collections import Counter\n",
        "stanza.download('ru')\n",
        "nlp = stanza.Pipeline('ru', processors='tokenize,pos')"
      ]
    },
    {
      "cell_type": "markdown",
      "metadata": {
        "id": "M9WriEUMpp49"
      },
      "source": [
        "### Готовим файлы"
      ]
    },
    {
      "cell_type": "code",
      "execution_count": null,
      "metadata": {
        "id": "iu8nfLQwq9jD"
      },
      "outputs": [],
      "source": [
        "texts, ids = [], []\n",
        "with open('train_reviews.txt') as f:\n",
        "  for line in f:\n",
        "    text_id, text = line.rstrip('\\r\\n').split('\\t')\n",
        "    texts.append(text)\n",
        "    ids.append(text_id)"
      ]
    },
    {
      "cell_type": "code",
      "execution_count": null,
      "metadata": {
        "id": "NkRVxZSqrbih"
      },
      "outputs": [],
      "source": [
        "train_texts, dev_texts, train_ids, dev_ids = train_test_split(texts, ids)"
      ]
    },
    {
      "cell_type": "code",
      "execution_count": null,
      "metadata": {
        "id": "k8BaGxQ2peqr"
      },
      "outputs": [],
      "source": [
        "train_aspects, dev_aspects = [], []\n",
        "with open(\"train_aspects.txt\") as f:\n",
        "  for line in f:\n",
        "    line = line.rstrip('\\r\\n')\n",
        "    text_id = line.split('\\t')[0]\n",
        "    if text_id in train_ids:\n",
        "      train_aspects.append(line)\n",
        "    if text_id in dev_ids:\n",
        "      dev_aspects.append(line)"
      ]
    },
    {
      "cell_type": "code",
      "execution_count": null,
      "metadata": {
        "id": "loH2zoINq4rl"
      },
      "outputs": [],
      "source": [
        "train_sentiment, dev_sentiment = [], []\n",
        "with open('train_cats.txt') as f:\n",
        "  for line in f:\n",
        "    line = line.rstrip('\\r\\n')\n",
        "    text_id = line.split('\\t')[0]\n",
        "    if text_id in train_ids:\n",
        "      train_sentiment.append(line)\n",
        "    if text_id in dev_ids:\n",
        "      dev_sentiment.append(line)"
      ]
    },
    {
      "cell_type": "code",
      "execution_count": null,
      "metadata": {
        "id": "gAsXEKbRODOt"
      },
      "outputs": [],
      "source": [
        "with open(\"train_split_aspects.txt\", 'w') as f:\n",
        "  for l in train_aspects:\n",
        "    print(l, file=f)\n",
        "with open('dev_aspects.txt', \"w\") as f:\n",
        "  for l in dev_aspects:\n",
        "    print(l, file=f)\n",
        "with open('train_split_reviews.txt', \"w\") as f:\n",
        "  for i, l in zip(train_ids, train_texts):\n",
        "    print(i, l, sep=\"\\t\", file=f)\n",
        "with open('dev_reviews.txt', \"w\") as f:\n",
        "  for i, l in zip(dev_ids, dev_texts):\n",
        "    print(i, l, sep=\"\\t\", file=f)\n",
        "with open('train_split_cats.txt', \"w\") as f:\n",
        "  for l in train_sentiment:\n",
        "    print(l, file=f)\n",
        "with open('dev_cats.txt', \"w\") as f:\n",
        "  for l in dev_sentiment:\n",
        "    print(l, file=f)"
      ]
    },
    {
      "cell_type": "markdown",
      "metadata": {
        "id": "Y-gE3ANvJbp2"
      },
      "source": [
        "### Читаем файлы, с которыми будем работать в дальнейшем"
      ]
    },
    {
      "cell_type": "code",
      "execution_count": null,
      "metadata": {
        "id": "WM7yP40pIPs7"
      },
      "outputs": [],
      "source": [
        "train_aspects = []\n",
        "with open(\"more_train_split_aspects.txt\") as f:\n",
        "  for line in f:\n",
        "    line = line.rstrip('\\r\\n')\n",
        "    text_id = line.split('\\t')[0]\n",
        "    train_aspects.append(line)\n",
        "  "
      ]
    },
    {
      "cell_type": "code",
      "execution_count": null,
      "metadata": {
        "id": "fDxCfPUQJFIb"
      },
      "outputs": [],
      "source": [
        "dev_aspects = []\n",
        "with open(\"dev_aspects.txt\") as f:\n",
        "  for line in f:\n",
        "    line = line.rstrip('\\r\\n')\n",
        "    text_id = line.split('\\t')[0]\n",
        "    dev_aspects.append(line)"
      ]
    },
    {
      "cell_type": "code",
      "execution_count": null,
      "metadata": {
        "id": "d5ynBe_jlrj8"
      },
      "outputs": [],
      "source": [
        "dict_words = {}\n",
        "for aspect in dev_aspects:\n",
        "  cat = aspect.split('\\t')[1]\n",
        "  word = aspect.split('\\t')[2]\n",
        "  dict_words[word] = cat"
      ]
    },
    {
      "cell_type": "code",
      "execution_count": null,
      "metadata": {
        "id": "gWVgyy4euWVj"
      },
      "outputs": [],
      "source": [
        "dict_sents = {}\n",
        "for aspect in dev_aspects:\n",
        "  cat = aspect.split('\\t')[-1]\n",
        "  word = aspect.split('\\t')[2]\n",
        "  dict_sents[word] = cat"
      ]
    },
    {
      "cell_type": "code",
      "execution_count": null,
      "metadata": {
        "id": "ULpWOCXiXCiY"
      },
      "outputs": [],
      "source": [
        "train_texts, train_ids = [], []\n",
        "with open('more_train_split_reviews.txt') as f:\n",
        "  lines = (line.rstrip() for line in f)\n",
        "  lines = list(line for line in lines if line)\n",
        "  for line in lines:\n",
        "    text_id, text = line.split('\\t')\n",
        "    train_texts.append(text)\n",
        "    train_ids.append(text_id)"
      ]
    },
    {
      "cell_type": "code",
      "execution_count": null,
      "metadata": {
        "id": "RtaORXAfJrXc"
      },
      "outputs": [],
      "source": [
        "dev_texts, dev_ids = [], []\n",
        "with open('dev_reviews.txt') as f:\n",
        "  for line in f:\n",
        "    text_id, text = line.rstrip('\\r\\n').split('\\t')\n",
        "    dev_texts.append(text)\n",
        "    dev_ids.append(text_id)"
      ]
    },
    {
      "cell_type": "code",
      "execution_count": null,
      "metadata": {
        "id": "ZdxMbBvYJ0iM"
      },
      "outputs": [],
      "source": [
        "train_sentiment = []\n",
        "with open('more_train_split_cats.txt') as f:\n",
        "  for line in f:\n",
        "    line = line.rstrip('\\r\\n')\n",
        "    text_id = line.split('\\t')[0]\n",
        "    train_sentiment.append(line)"
      ]
    },
    {
      "cell_type": "code",
      "execution_count": null,
      "metadata": {
        "id": "shF9I240J8v-"
      },
      "outputs": [],
      "source": [
        "dev_sentiment = []\n",
        "with open('dev_cats.txt') as f:\n",
        "  for line in f:\n",
        "    line = line.rstrip('\\r\\n')\n",
        "    text_id = line.split('\\t')[0]\n",
        "    dev_sentiment.append(line)"
      ]
    },
    {
      "cell_type": "markdown",
      "metadata": {
        "id": "RP5fWL5FxisI"
      },
      "source": [
        "### Переразмечаем наши данные в формате BIO, где помимо тегов категории мы добавляем теги тональности"
      ]
    },
    {
      "cell_type": "code",
      "execution_count": null,
      "metadata": {
        "id": "BpjcVdEBtDmI"
      },
      "outputs": [],
      "source": [
        "reviews_train = {}\n",
        "review_test = {}\n",
        "for i in range(len(train_texts)):\n",
        "  reviews_train[train_ids[i]] = train_texts[i]\n",
        "\n",
        "for i in range(len(dev_texts)):\n",
        "  review_test[dev_ids[i]] = dev_texts[i]"
      ]
    },
    {
      "cell_type": "code",
      "execution_count": null,
      "metadata": {
        "id": "js_AcdeK0XAZ"
      },
      "outputs": [],
      "source": [
        "aspects_train = defaultdict(list)\n",
        "aspects_test = defaultdict(list)"
      ]
    },
    {
      "cell_type": "code",
      "execution_count": null,
      "metadata": {
        "id": "mnMgfVM_0xT_"
      },
      "outputs": [],
      "source": [
        "keys = ('category', 'mention', 'start', 'end', 'sentiment')\n",
        "for t in train_aspects:\n",
        "  text_id = t.split('\\t')[0]\n",
        "  line = t.split('\\t')[1:]\n",
        "  aspects_train[text_id].append(dict(zip(keys, line)))\n",
        "\n",
        "for t in dev_aspects:\n",
        "  text_id = t.split('\\t')[0]\n",
        "  line = t.split('\\t')[1:]\n",
        "  aspects_test[text_id].append(dict(zip(keys, line)))"
      ]
    },
    {
      "cell_type": "code",
      "execution_count": null,
      "metadata": {
        "colab": {
          "base_uri": "https://localhost:8080/",
          "height": 49,
          "referenced_widgets": [
            "c2e7895c94804d8ca913e0a8c01889cf",
            "1e9c43dcce5a450186d971371cb00c83",
            "71ccd20f0e6645eab5cf893e57ffc5ba",
            "0348ee9d141149ce84315307e1186b07",
            "001f6f15dabd4ceca3dde95528e13c0c",
            "608136b572104d95bc95ed023e12ee5d",
            "4c895b07c6514d17a1f13ed574050919",
            "a0c19be1df164eff87b69bf2a1da34f9",
            "4e40912528ec4322994281d722960479",
            "d9ac370f73ce415ab19fa4e59ce1da6c",
            "05fcce582e9a4b73b09bf8ee33e09733"
          ]
        },
        "id": "-VjnzQZ_2jFv",
        "outputId": "95a38514-b8b6-4230-ed6d-f8174c2434a6"
      },
      "outputs": [
        {
          "data": {
            "application/vnd.jupyter.widget-view+json": {
              "model_id": "c2e7895c94804d8ca913e0a8c01889cf",
              "version_major": 2,
              "version_minor": 0
            },
            "text/plain": [
              "  0%|          | 0/426 [00:00<?, ?it/s]"
            ]
          },
          "metadata": {},
          "output_type": "display_data"
        }
      ],
      "source": [
        "bio_train_texts = {}\n",
        "for text_id, text in tqdm(list(reviews_train.items())):\n",
        "  text_bio = []\n",
        "  processed = nlp(text)\n",
        "  for token in processed.iter_tokens():\n",
        "    add = False\n",
        "    for mention in aspects_train[text_id]:\n",
        "      if token.start_char == int(mention['start']):\n",
        "        bio = 'B-' + mention['category'] + '-' + mention['sentiment']\n",
        "        add = True\n",
        "        break\n",
        "      elif token.end_char == int(mention['end']):\n",
        "        bio = 'E-' + mention['category'] + '-' + mention['sentiment']\n",
        "        add = True\n",
        "        break\n",
        "      elif int(mention['start']) < token.start_char < int(mention['end']):\n",
        "        bio = 'I-' + mention['category'] + '-' + mention['sentiment']\n",
        "        add = True\n",
        "        break\n",
        "\n",
        "    if not add:\n",
        "      bio = 'O'\n",
        "\n",
        "    text_bio.append(bio)\n",
        "\n",
        "  bio_train_texts[text_id] = text_bio"
      ]
    },
    {
      "cell_type": "code",
      "execution_count": null,
      "metadata": {
        "colab": {
          "base_uri": "https://localhost:8080/",
          "height": 49,
          "referenced_widgets": [
            "c322a1e10eaa4fbfa39f0b7ee87b2660",
            "f3fe36da549b42cab7826270342f4815",
            "1c8267d087e04409a5486c4215a47415",
            "8bbf70c63dd240dba979d55cb034567d",
            "752234b4108f4c179a02f6d53fc3b602",
            "aa56856943e24bfebaff85a42cef7e12",
            "07ef91bb9155403796b394e801b3d4a8",
            "592a25f39aab4a039fc3a80a956f86fc",
            "930abfba087a44fdb818aaec88a7a44c",
            "79127a716eed48e6b1435a4f840208c6",
            "5ebb8cced0154b608ebb3abeb67056d6"
          ]
        },
        "id": "GhLCrZIWNOfy",
        "outputId": "3fe69e5a-c56c-4d3f-a39a-41a2fd1efb17"
      },
      "outputs": [
        {
          "data": {
            "application/vnd.jupyter.widget-view+json": {
              "model_id": "c322a1e10eaa4fbfa39f0b7ee87b2660",
              "version_major": 2,
              "version_minor": 0
            },
            "text/plain": [
              "  0%|          | 0/71 [00:00<?, ?it/s]"
            ]
          },
          "metadata": {},
          "output_type": "display_data"
        }
      ],
      "source": [
        "bio_test_texts = {}\n",
        "for text_id, text in tqdm(list(review_test.items())):\n",
        "  text_bio = []\n",
        "  processed = nlp(text)\n",
        "  for token in processed.iter_tokens():\n",
        "    add = False\n",
        "    for mention in aspects_test[text_id]:\n",
        "      if token.start_char == int(mention['start']):\n",
        "        bio = 'B-' + mention['category'] + '-' + mention['sentiment']\n",
        "        add = True\n",
        "        break\n",
        "      elif token.end_char == int(mention['end']):\n",
        "        bio = 'E-' + mention['category'] + '-' + mention['sentiment']\n",
        "        add = True\n",
        "        break\n",
        "      elif int(mention['start']) < token.start_char < int(mention['end']):\n",
        "        bio = 'I-' + mention['category'] + '-' + mention['sentiment']\n",
        "        add = True\n",
        "        break\n",
        "\n",
        "    if not add:\n",
        "      bio = 'O'\n",
        "\n",
        "    text_bio.append(bio)\n",
        "\n",
        "  bio_test_texts[text_id] = text_bio"
      ]
    },
    {
      "cell_type": "code",
      "execution_count": null,
      "metadata": {
        "id": "LkgMEwuoNiGA"
      },
      "outputs": [],
      "source": [
        "def word2features(sent, i):\n",
        "    word = sent[i].text\n",
        "    postag = sent[i].upos\n",
        "    \n",
        "    features = {\n",
        "        'word.lower()': word.lower(),\n",
        "        'word[-3:]': word[-3:],\n",
        "        'word[-2:]': word[-2:],\n",
        "        'word.isupper()': word.isupper(),\n",
        "        'word.istitle()': word.istitle(),\n",
        "        'word.isdigit()': word.isdigit(),\n",
        "        'postag': postag,\n",
        "    }\n",
        "    if i > 0:\n",
        "        word1 = sent[i-1].text\n",
        "        postag1 = sent[i-1].pos\n",
        "        features.update({\n",
        "            '-1:word.lower()': word1.lower(),\n",
        "            '-1:word.istitle()': word1.istitle(),\n",
        "            '-1:word.isupper()': word1.isupper(),\n",
        "            '-1:postag': postag1,\n",
        "        })\n",
        "    else:\n",
        "        features['BOS'] = True\n",
        "        \n",
        "    if i < len(sent)-1:\n",
        "        word1 = sent[i+1].text\n",
        "        postag1 = sent[i+1].pos\n",
        "        features.update({\n",
        "            '+1:word.lower()': word1.lower(),\n",
        "            '+1:word.istitle()': word1.istitle(),\n",
        "            '+1:word.isupper()': word1.isupper(),\n",
        "            '+1:postag': postag1,\n",
        "            '+1:postag[:2]': postag1[:2],\n",
        "        })\n",
        "    else:\n",
        "        features['EOS'] = True\n",
        "                \n",
        "    return features\n",
        "\n",
        "\n",
        "def text2features(text):\n",
        "  prep_text = nlp(text)\n",
        "  toks = []\n",
        "  for sent in prep_text.sentences:\n",
        "    for token in sent.words:\n",
        "      toks.append(token)\n",
        "  return [word2features(toks, i) for i in range(len(toks))]\n",
        "\n",
        "def text2labels(text_ids, labels):\n",
        "    return [labels[i] for i in text_ids]\n",
        "\n",
        "def text2tokens(text):\n",
        "    prep_text = nlp(text)\n",
        "    toks = []\n",
        "    for sent in prep_text.sentences:\n",
        "      for token in sent.words:\n",
        "        toks.append(token)\n",
        "    return toks"
      ]
    },
    {
      "cell_type": "code",
      "execution_count": null,
      "metadata": {
        "id": "JU8LdGbnVS5Y"
      },
      "outputs": [],
      "source": [
        "X_train = [text2features(s) for s in train_texts]\n",
        "y_train = text2labels(train_ids, bio_train_texts)\n",
        "\n",
        "X_test = [text2features(s) for s in dev_texts]\n",
        "y_test = text2labels(dev_ids, bio_test_texts)"
      ]
    },
    {
      "cell_type": "markdown",
      "metadata": {
        "id": "nGhSfH0C2sY2"
      },
      "source": [
        "### Запускаем CRF"
      ]
    },
    {
      "cell_type": "code",
      "execution_count": null,
      "metadata": {
        "colab": {
          "base_uri": "https://localhost:8080/"
        },
        "id": "CuBIEuspRWrO",
        "outputId": "7914a4bf-5807-4b44-83a4-caf6e33ea650"
      },
      "outputs": [
        {
          "name": "stderr",
          "output_type": "stream",
          "text": [
            "/usr/local/lib/python3.7/dist-packages/sklearn/base.py:213: FutureWarning: From version 0.24, get_params will raise an AttributeError if a parameter cannot be retrieved as an instance attribute. Previously it would return None.\n",
            "  FutureWarning)\n"
          ]
        },
        {
          "data": {
            "text/plain": [
              "CRF(algorithm='lbfgs', all_possible_transitions=True, c1=0.1, c2=0.1,\n",
              "    keep_tempfiles=None, max_iterations=100)"
            ]
          },
          "execution_count": 31,
          "metadata": {},
          "output_type": "execute_result"
        }
      ],
      "source": [
        "crf = sklearn_crfsuite.CRF(\n",
        "    algorithm='lbfgs', \n",
        "    c1=0.1, \n",
        "    c2=0.1, \n",
        "    max_iterations=100, \n",
        "    all_possible_transitions=True\n",
        ")\n",
        "crf.fit(X_train, y_train)"
      ]
    },
    {
      "cell_type": "code",
      "execution_count": null,
      "metadata": {
        "colab": {
          "base_uri": "https://localhost:8080/"
        },
        "id": "-k6NWtcQUBys",
        "outputId": "f128cfd7-77dd-411d-a326-74a01567523e"
      },
      "outputs": [
        {
          "name": "stderr",
          "output_type": "stream",
          "text": [
            "/usr/local/lib/python3.7/dist-packages/sklearn/metrics/_classification.py:1465: UndefinedMetricWarning: F-score is ill-defined and being set to 0.0 in labels with no true nor predicted samples. Use `zero_division` parameter to control this behavior.\n",
            "  average, \"true nor predicted\", 'F-score is', len(true_sum)\n"
          ]
        },
        {
          "data": {
            "text/plain": [
              "0.40922530878449587"
            ]
          },
          "execution_count": 32,
          "metadata": {},
          "output_type": "execute_result"
        }
      ],
      "source": [
        "labels = list(crf.classes_)\n",
        "labels.remove('O')\n",
        "y_pred = crf.predict(X_test)\n",
        "metrics.flat_f1_score(y_test, y_pred, \n",
        "                      average='weighted', labels=labels)"
      ]
    },
    {
      "cell_type": "code",
      "execution_count": null,
      "metadata": {
        "colab": {
          "base_uri": "https://localhost:8080/"
        },
        "id": "jsmATgkldmA8",
        "outputId": "b893f9df-c9bb-40ae-aa78-d91cd7de8640"
      },
      "outputs": [
        {
          "name": "stdout",
          "output_type": "stream",
          "text": [
            "                     precision    recall  f1-score   support\n",
            "\n",
            "        B-Food-both      0.000     0.000     0.000        10\n",
            "        E-Food-both      0.000     0.000     0.000         0\n",
            "        I-Food-both      0.000     0.000     0.000         0\n",
            "    B-Food-negative      0.467     0.101     0.167        69\n",
            "    E-Food-negative      0.000     0.000     0.000        11\n",
            "    I-Food-negative      0.000     0.000     0.000         6\n",
            "     B-Food-neutral      0.292     0.160     0.207       119\n",
            "     E-Food-neutral      0.167     0.057     0.085        35\n",
            "     I-Food-neutral      0.091     0.029     0.044        34\n",
            "    B-Food-positive      0.546     0.439     0.487       296\n",
            "    E-Food-positive      0.476     0.319     0.382        94\n",
            "    I-Food-positive      0.540     0.321     0.402       106\n",
            "    B-Interior-both      0.000     0.000     0.000         3\n",
            "    E-Interior-both      0.000     0.000     0.000         0\n",
            "B-Interior-negative      0.000     0.000     0.000        12\n",
            "E-Interior-negative      0.000     0.000     0.000         3\n",
            "I-Interior-negative      0.000     0.000     0.000         0\n",
            " B-Interior-neutral      0.250     0.100     0.143        10\n",
            " E-Interior-neutral      0.333     1.000     0.500         1\n",
            " I-Interior-neutral      0.000     0.000     0.000         0\n",
            "B-Interior-positive      0.763     0.494     0.600       176\n",
            "E-Interior-positive      0.600     0.214     0.316        28\n",
            "I-Interior-positive      0.250     0.250     0.250         4\n",
            "       B-Price-both      0.000     0.000     0.000         0\n",
            "   B-Price-negative      0.500     0.143     0.222         7\n",
            "   E-Price-negative      0.000     0.000     0.000         2\n",
            "   I-Price-negative      0.000     0.000     0.000         2\n",
            "    B-Price-neutral      0.000     0.000     0.000         2\n",
            "    E-Price-neutral      0.000     0.000     0.000         0\n",
            "    I-Price-neutral      0.000     0.000     0.000         0\n",
            "   B-Price-positive      0.650     0.684     0.667        19\n",
            "   E-Price-positive      0.000     0.000     0.000         1\n",
            "   I-Price-positive      0.000     0.000     0.000         0\n",
            "     B-Service-both      0.000     0.000     0.000         4\n",
            "     I-Service-both      0.000     0.000     0.000         0\n",
            " B-Service-negative      0.412     0.137     0.206        51\n",
            " E-Service-negative      0.000     0.000     0.000         4\n",
            " I-Service-negative      0.000     0.000     0.000         3\n",
            "  B-Service-neutral      1.000     0.143     0.250        35\n",
            "  E-Service-neutral      1.000     0.417     0.588        12\n",
            "  I-Service-neutral      0.000     0.000     0.000         2\n",
            " B-Service-positive      0.702     0.551     0.618       214\n",
            " E-Service-positive      0.318     0.212     0.255        33\n",
            " I-Service-positive      0.300     0.214     0.250        14\n",
            "       B-Whole-both      0.000     0.000     0.000         0\n",
            "       E-Whole-both      0.000     0.000     0.000         0\n",
            "       I-Whole-both      0.000     0.000     0.000         0\n",
            "   B-Whole-negative      0.667     0.154     0.250        13\n",
            "   E-Whole-negative      0.000     0.000     0.000         1\n",
            "   I-Whole-negative      0.000     0.000     0.000         0\n",
            "    B-Whole-neutral      0.512     0.449     0.478        49\n",
            "    E-Whole-neutral      0.286     0.222     0.250         9\n",
            "    I-Whole-neutral      0.455     0.455     0.455        11\n",
            "   B-Whole-positive      0.649     0.555     0.598       110\n",
            "   E-Whole-positive      0.444     0.308     0.364        13\n",
            "   I-Whole-positive      0.200     0.083     0.118        12\n",
            "\n",
            "          micro avg      0.558     0.351     0.431      1640\n",
            "          macro avg      0.230     0.147     0.163      1640\n",
            "       weighted avg      0.527     0.351     0.409      1640\n",
            "\n"
          ]
        },
        {
          "name": "stderr",
          "output_type": "stream",
          "text": [
            "/usr/local/lib/python3.7/dist-packages/sklearn/utils/validation.py:70: FutureWarning: Pass labels=['B-Food-both', 'E-Food-both', 'I-Food-both', 'B-Food-negative', 'E-Food-negative', 'I-Food-negative', 'B-Food-neutral', 'E-Food-neutral', 'I-Food-neutral', 'B-Food-positive', 'E-Food-positive', 'I-Food-positive', 'B-Interior-both', 'E-Interior-both', 'B-Interior-negative', 'E-Interior-negative', 'I-Interior-negative', 'B-Interior-neutral', 'E-Interior-neutral', 'I-Interior-neutral', 'B-Interior-positive', 'E-Interior-positive', 'I-Interior-positive', 'B-Price-both', 'B-Price-negative', 'E-Price-negative', 'I-Price-negative', 'B-Price-neutral', 'E-Price-neutral', 'I-Price-neutral', 'B-Price-positive', 'E-Price-positive', 'I-Price-positive', 'B-Service-both', 'I-Service-both', 'B-Service-negative', 'E-Service-negative', 'I-Service-negative', 'B-Service-neutral', 'E-Service-neutral', 'I-Service-neutral', 'B-Service-positive', 'E-Service-positive', 'I-Service-positive', 'B-Whole-both', 'E-Whole-both', 'I-Whole-both', 'B-Whole-negative', 'E-Whole-negative', 'I-Whole-negative', 'B-Whole-neutral', 'E-Whole-neutral', 'I-Whole-neutral', 'B-Whole-positive', 'E-Whole-positive', 'I-Whole-positive'] as keyword args. From version 0.25 passing these as positional arguments will result in an error\n",
            "  FutureWarning)\n",
            "/usr/local/lib/python3.7/dist-packages/sklearn/metrics/_classification.py:1221: UndefinedMetricWarning: Precision and F-score are ill-defined and being set to 0.0 in labels with no predicted samples. Use `zero_division` parameter to control this behavior.\n",
            "  _warn_prf(average, modifier, msg_start, len(result))\n",
            "/usr/local/lib/python3.7/dist-packages/sklearn/metrics/_classification.py:1221: UndefinedMetricWarning: Recall and F-score are ill-defined and being set to 0.0 in labels with no true samples. Use `zero_division` parameter to control this behavior.\n",
            "  _warn_prf(average, modifier, msg_start, len(result))\n"
          ]
        }
      ],
      "source": [
        "sorted_labels = sorted(\n",
        "    labels, \n",
        "    key=lambda name: (name[1:], name[0])\n",
        ")\n",
        "print(metrics.flat_classification_report(\n",
        "    y_test, y_pred, labels=sorted_labels, digits=3\n",
        "))"
      ]
    },
    {
      "cell_type": "markdown",
      "metadata": {
        "id": "ITpUxDZ53MtK"
      },
      "source": [
        "### Тем словам, которым CRF не присвоил категорию, но которые встречаются в обучающих и имеют там категорию, мы присваиваем ту же категорию и тональность, что и в обучающих данных. Результаты записываем в файл."
      ]
    },
    {
      "cell_type": "code",
      "execution_count": null,
      "metadata": {
        "colab": {
          "base_uri": "https://localhost:8080/",
          "height": 49,
          "referenced_widgets": [
            "6dcf458ae866430a8ae0cdda93460f10",
            "bd00e679c9304630a8ba008794c61b19",
            "854914ade45343048b88fa910d5a2839",
            "377752ed1f6344d1912c5a51d877a0e9",
            "0daf36c2a9fe451c8fb1bb7d5b688b22",
            "56617c05746442218f3aa895c9baee49",
            "69237daafdd5482bb248030836cb36f4",
            "3ba55c92e34340259629f6f398e78a4c",
            "ec5e1613f02747e39f2c70133252ca63",
            "4d376fdeb32448dd9d58eddaa87b30ab",
            "4f943156bb29439c9a48f7c668424894"
          ]
        },
        "id": "9tpT4q73wnuD",
        "outputId": "9af84185-4ee3-4495-fac0-f632a980ff12"
      },
      "outputs": [
        {
          "data": {
            "application/vnd.jupyter.widget-view+json": {
              "model_id": "6dcf458ae866430a8ae0cdda93460f10",
              "version_major": 2,
              "version_minor": 0
            },
            "text/plain": [
              "  0%|          | 0/71 [00:00<?, ?it/s]"
            ]
          },
          "metadata": {},
          "output_type": "display_data"
        }
      ],
      "source": [
        "with open('dev_pred_aspects_sent_crf.txt', \"w\") as f:\n",
        "  for i in tqdm(range(len(dev_texts))):\n",
        "    preds = y_pred[i]\n",
        "    dev_text = nlp(dev_texts[i])\n",
        "    dev = []\n",
        "    dev_ends = []\n",
        "    dev_starts = []\n",
        "    text = nlp(dev_text)\n",
        "    sents = text.sentences\n",
        "    for sent in sents:\n",
        "      toks = sent.tokens\n",
        "      for tok in toks:\n",
        "        dev.append(tok.text)\n",
        "        dev_ends.append(tok.end_char)\n",
        "        dev_starts.append(tok.start_char)\n",
        "    \n",
        "    y_2 = 0\n",
        "    for y in range(len(preds)):\n",
        "      if y == y_2:\n",
        "        y_2 = y + 1\n",
        "        if preds[y] != 'O':\n",
        "          if 'positive' in preds[y]:\n",
        "            sent = 'positive'\n",
        "            cat = preds[y][2:-9]\n",
        "\n",
        "          elif 'negative' in preds[y]:\n",
        "            sent = 'negative'\n",
        "            cat = preds[y][2:-9]\n",
        "          \n",
        "          elif 'neutral' in preds[y]:\n",
        "            sent = 'neutral'\n",
        "            cat = preds[y][2:-8]\n",
        "          \n",
        "          elif 'both' in preds[y]:\n",
        "            sent = 'both'\n",
        "            cat = preds[y][2:-5]\n",
        "          \n",
        "          \n",
        "          id_text = dev_ids[i]\n",
        "          tokens_span = dev[y]\n",
        "          ends_span = dev_ends[y]\n",
        "          starts_span = dev_starts[y]\n",
        "          for e in range(y+1, len(preds)):\n",
        "            if 'positive' in preds[y]:\n",
        "              cat_e = preds[e][2:-9]\n",
        "\n",
        "            elif 'negative' in preds[y]:\n",
        "              cat_e = preds[e][2:-9]\n",
        "            \n",
        "            elif 'neutral' in preds[y]:\n",
        "              cat_e = preds[e][2:-8]\n",
        "            \n",
        "            elif 'both' in preds[y]:\n",
        "              cat_e = preds[e][2:-5]\n",
        "\n",
        "            if cat_e != cat:\n",
        "              break\n",
        "            else:\n",
        "              token = ' ' + dev[e]\n",
        "              ends_span = dev_ends[e]\n",
        "              tokens_span += token\n",
        "              y_2 = e + 1\n",
        "\n",
        "          print(id_text, cat, tokens_span, starts_span, ends_span, sent, sep=\"\\t\", file=f)\n",
        "\n",
        "        elif preds[y] == 'O':\n",
        "          if dev[y] in dict_sents.keys():\n",
        "            id_text = dev_ids[i]\n",
        "            cat = dict_words[dev[y]]\n",
        "            sent = dict_sents[dev[y]]\n",
        "            tokens_span = dev[y]\n",
        "            ends_span = dev_ends[y]\n",
        "            starts_span = dev_starts[y]\n",
        "            print(id_text, cat, tokens_span, starts_span, ends_span, sent, sep=\"\\t\", file=f)"
      ]
    },
    {
      "cell_type": "code",
      "execution_count": null,
      "metadata": {
        "id": "raaAZ6OGdsDD"
      },
      "outputs": [],
      "source": [
        "gold_aspect_cats = {}\n",
        "with open('dev_aspects.txt') as fg:\n",
        "    for line in fg:\n",
        "        line = line.rstrip('\\r\\n').split('\\t')\n",
        "        if line[0] not in gold_aspect_cats:\n",
        "            gold_aspect_cats[line[0]] = {\"starts\":[], \"ends\":[], \"cats\":[], \"sents\":[]}\n",
        "        gold_aspect_cats[line[0]][\"starts\"].append(int(line[3]))\n",
        "        gold_aspect_cats[line[0]][\"ends\"].append(int(line[4]))\n",
        "        gold_aspect_cats[line[0]][\"cats\"].append(line[1])\n",
        "        gold_aspect_cats[line[0]][\"sents\"].append(line[5])"
      ]
    },
    {
      "cell_type": "markdown",
      "metadata": {
        "id": "JLUxxJIU4bnx"
      },
      "source": [
        "### Оценка 1: accuracy по выделению упоминаний с категориями"
      ]
    },
    {
      "cell_type": "code",
      "execution_count": null,
      "metadata": {
        "id": "6rZucHkM8dVG"
      },
      "outputs": [],
      "source": [
        "full_match, partial_match, full_cat_match, partial_cat_match = 0, 0, 0, 0\n",
        "total = 0\n",
        "fully_matched_pairs = []\n",
        "partially_matched_pairs = []\n",
        "with open('dev_pred_aspects_sent_crf.txt') as fp:\n",
        "    for line in fp:    \n",
        "        total += 1\n",
        "        line = line.rstrip('\\r\\n').split('\\t')\n",
        "        start, end = int(line[3]), int(line[4])\n",
        "        category = line[1]\n",
        "        doc_gold_aspect_cats = gold_aspect_cats[line[0]]\n",
        "        if start in doc_gold_aspect_cats[\"starts\"]:\n",
        "            i = doc_gold_aspect_cats[\"starts\"].index(start)\n",
        "            if doc_gold_aspect_cats[\"ends\"][i] == end:\n",
        "                full_match += 1\n",
        "                if doc_gold_aspect_cats[\"cats\"][i] == category:\n",
        "                    full_cat_match += 1\n",
        "                else:\n",
        "                    partial_cat_match += 1\n",
        "                fully_matched_pairs.append(\n",
        "                    (\n",
        "                        [\n",
        "                            doc_gold_aspect_cats[\"starts\"][i], \n",
        "                            doc_gold_aspect_cats[\"ends\"][i], \n",
        "                            doc_gold_aspect_cats[\"cats\"][i],\n",
        "                            doc_gold_aspect_cats[\"sents\"][i]\n",
        "                        ],\n",
        "                        line\n",
        "                    )\n",
        "                )\n",
        "                continue\n",
        "        for s_pos in doc_gold_aspect_cats[\"starts\"]:\n",
        "            if start <= s_pos:\n",
        "                i = doc_gold_aspect_cats[\"starts\"].index(s_pos)\n",
        "                if doc_gold_aspect_cats[\"ends\"][i] == end:\n",
        "                    partial_match += 1\n",
        "                    partially_matched_pairs.append(\n",
        "                        (\n",
        "                            [\n",
        "                                doc_gold_aspect_cats[\"starts\"][i], \n",
        "                                doc_gold_aspect_cats[\"ends\"][i], \n",
        "                                doc_gold_aspect_cats[\"cats\"][i],\n",
        "                                doc_gold_aspect_cats[\"sents\"][i]\n",
        "                            ],\n",
        "                            line\n",
        "                        )\n",
        "                    )\n",
        "                    if doc_gold_aspect_cats[\"cats\"][i] == category:\n",
        "                        partial_cat_match += 1\n",
        "                    continue\n",
        "                matched = False\n",
        "                for e_pos in doc_gold_aspect_cats[\"ends\"][i:]:\n",
        "                    if s_pos <= end <= e_pos:\n",
        "                        partial_match += 1\n",
        "                        partially_matched_pairs.append(\n",
        "                            (\n",
        "                                [\n",
        "                                    doc_gold_aspect_cats[\"starts\"][i], \n",
        "                                    doc_gold_aspect_cats[\"ends\"][i], \n",
        "                                    doc_gold_aspect_cats[\"cats\"][i],\n",
        "                                    doc_gold_aspect_cats[\"sents\"][i]\n",
        "                                ],\n",
        "                                line\n",
        "                            )\n",
        "                        )\n",
        "                        if doc_gold_aspect_cats[\"cats\"][i] == category:\n",
        "                            partial_cat_match += 1\n",
        "                        matched = True\n",
        "                        break\n",
        "                if matched:\n",
        "                    break\n",
        "            if start > s_pos:\n",
        "                i = doc_gold_aspect_cats[\"starts\"].index(s_pos)\n",
        "                if start < doc_gold_aspect_cats[\"ends\"][i] <= end:\n",
        "                    partial_match += 1\n",
        "                    partially_matched_pairs.append(\n",
        "                        (\n",
        "                            [\n",
        "                                doc_gold_aspect_cats[\"starts\"][i], \n",
        "                                doc_gold_aspect_cats[\"ends\"][i], \n",
        "                                doc_gold_aspect_cats[\"cats\"][i],\n",
        "                                doc_gold_aspect_cats[\"sents\"][i]\n",
        "                            ],\n",
        "                            line\n",
        "                        )\n",
        "                    )\n",
        "                    if doc_gold_aspect_cats[\"cats\"][i] == category:\n",
        "                        partial_cat_match += 1\n",
        "                    break\n"
      ]
    },
    {
      "cell_type": "code",
      "execution_count": null,
      "metadata": {
        "id": "dMaq8oDa8dJS"
      },
      "outputs": [],
      "source": [
        "gold_size = sum([len(gold_aspect_cats[x][\"cats\"]) for x in gold_aspect_cats])"
      ]
    },
    {
      "cell_type": "code",
      "execution_count": null,
      "metadata": {
        "colab": {
          "base_uri": "https://localhost:8080/"
        },
        "id": "BhVA9lgR8c-O",
        "outputId": "b3c8971e-0257-48b2-de01-4ec36b2fb523"
      },
      "outputs": [
        {
          "name": "stdout",
          "output_type": "stream",
          "text": [
            "\n",
            "Full match precision: 0.7144906743185079\n",
            "Full match recall: 0.8272425249169435\n",
            "Partial match ratio in pred: 0.8213773314203731\n",
            "Full category accuracy: 0.7037302725968436\n",
            "Partial category accuracy: 0.8070301291248206\n",
            "\n"
          ]
        }
      ],
      "source": [
        "print(f\"\"\"\n",
        "Full match precision: {full_match / total}\n",
        "Full match recall: {full_match / gold_size}\n",
        "Partial match ratio in pred: {(full_match + partial_match)  / total}\n",
        "Full category accuracy: {full_cat_match / total}\n",
        "Partial category accuracy: {(full_cat_match + partial_cat_match) / total}\n",
        "\"\"\")"
      ]
    },
    {
      "cell_type": "markdown",
      "metadata": {
        "id": "hek0dy4X4lEV"
      },
      "source": [
        "### Оценка 2: accuracy по тональности упоминаний"
      ]
    },
    {
      "cell_type": "code",
      "execution_count": null,
      "metadata": {
        "id": "4B7HKjDowL2H"
      },
      "outputs": [],
      "source": [
        "def sentiment_accuracy(matches):\n",
        "    matched_sentiment = 0.\n",
        "    for pair in matches:\n",
        "        *_, gold_s = pair[0]\n",
        "        *_, pred_s = pair[1]\n",
        "        if gold_s == pred_s:\n",
        "            matched_sentiment += 1\n",
        "    print(f\"Mention sentiment accuracy: {matched_sentiment / len(matches)}\")"
      ]
    },
    {
      "cell_type": "code",
      "execution_count": null,
      "metadata": {
        "colab": {
          "base_uri": "https://localhost:8080/"
        },
        "id": "KMWncdNwxFAh",
        "outputId": "995b165f-68f1-4540-d2eb-0bb4bd2adc65"
      },
      "outputs": [
        {
          "name": "stdout",
          "output_type": "stream",
          "text": [
            "Mention sentiment accuracy: 0.786144578313253\n"
          ]
        }
      ],
      "source": [
        "sentiment_accuracy(fully_matched_pairs)"
      ]
    },
    {
      "cell_type": "code",
      "execution_count": null,
      "metadata": {
        "colab": {
          "base_uri": "https://localhost:8080/"
        },
        "id": "Z34RXKdyxJDs",
        "outputId": "ad9013a0-d3ef-49e5-ab08-80011780d0a9"
      },
      "outputs": [
        {
          "name": "stdout",
          "output_type": "stream",
          "text": [
            "Mention sentiment accuracy: 0.6375838926174496\n"
          ]
        }
      ],
      "source": [
        "sentiment_accuracy(partially_matched_pairs)"
      ]
    },
    {
      "cell_type": "markdown",
      "metadata": {
        "id": "nsW5SS7d4xSI"
      },
      "source": [
        "### Оценка 3: accuracy по тональности категории"
      ]
    },
    {
      "cell_type": "code",
      "execution_count": null,
      "metadata": {
        "id": "LpRHW8WIyATs"
      },
      "outputs": [],
      "source": [
        "def from_aspects_to_cats(path_from, path_to):\n",
        "    aspects_d = {}\n",
        "    with open (path_from, encoding='utf-8') as f:\n",
        "        for line in f:\n",
        "            line = line.split('\\t')\n",
        "            sent_id = line[0]\n",
        "            cat = line[1]\n",
        "            sent = line[-1].replace('\\n', '')\n",
        "            if sent_id not in aspects_d.keys():\n",
        "                aspects_d[sent_id] = {}\n",
        "            if cat not in aspects_d[sent_id]:\n",
        "                aspects_d[sent_id][cat] = []\n",
        "            aspects_d[sent_id][cat].append(sent)\n",
        "    aspects_cat = dict.fromkeys(aspects_d.keys())\n",
        "    cats = ['Food', 'Interior', 'Price', 'Whole', 'Service']\n",
        "    for k in aspects_cat.keys():\n",
        "        aspects_cat[k] = {}\n",
        "        for c in cats:\n",
        "            if c not in aspects_d[k].keys():\n",
        "                aspects_cat[k][c] = 'absence'\n",
        "            else:\n",
        "                counter = Counter(aspects_d[k][c]).most_common()\n",
        "                if len(counter)>1 and counter[0][0]==counter[1][0]:\n",
        "                    aspects_cat[k][c] = 'both'\n",
        "                else:\n",
        "                    aspects_cat[k][c] = counter[0][0]\n",
        "    with open(path_to, 'w', encoding='utf-8') as f:\n",
        "        for k, v in aspects_cat.items():\n",
        "            for c, s in v.items():\n",
        "                print(k, c, s, sep='\\t', file=f)"
      ]
    },
    {
      "cell_type": "code",
      "execution_count": null,
      "metadata": {
        "id": "BdQqJfqNyfjN"
      },
      "outputs": [],
      "source": [
        "from_aspects_to_cats('dev_pred_aspects_sent_crf.txt', 'dev_pred_cats_sent.txt')"
      ]
    },
    {
      "cell_type": "code",
      "execution_count": null,
      "metadata": {
        "colab": {
          "base_uri": "https://localhost:8080/"
        },
        "id": "--baMkwDyrsa",
        "outputId": "e44634fc-59b6-49d5-e209-ed1fa4e5a829"
      },
      "outputs": [
        {
          "name": "stdout",
          "output_type": "stream",
          "text": [
            "Overall sentiment accuracy: 0.7126760563380282\n"
          ]
        }
      ],
      "source": [
        "with open('dev_cats.txt') as gc, open('dev_pred_cats_sent.txt') as pc:\n",
        "    gold_labels = set(gc.readlines())\n",
        "    pred_labels = set(pc.readlines())\n",
        "    print(\n",
        "        \"Overall sentiment accuracy:\",\n",
        "        len(gold_labels & pred_labels) / len(gold_labels)\n",
        "    )"
      ]
    },
    {
      "cell_type": "code",
      "execution_count": null,
      "metadata": {
        "id": "D91-hmvgy7GA"
      },
      "outputs": [],
      "source": []
    }
  ],
  "metadata": {
    "accelerator": "GPU",
    "colab": {
      "collapsed_sections": [],
      "name": "nlp_project_crf_sent.ipynb\"",
      "provenance": []
    },
    "kernelspec": {
      "display_name": "Python 3",
      "name": "python3"
    },
    "language_info": {
      "name": "python"
    },
    "widgets": {
      "application/vnd.jupyter.widget-state+json": {
        "001f6f15dabd4ceca3dde95528e13c0c": {
          "model_module": "@jupyter-widgets/controls",
          "model_module_version": "1.5.0",
          "model_name": "HTMLModel",
          "state": {
            "_dom_classes": [],
            "_model_module": "@jupyter-widgets/controls",
            "_model_module_version": "1.5.0",
            "_model_name": "HTMLModel",
            "_view_count": null,
            "_view_module": "@jupyter-widgets/controls",
            "_view_module_version": "1.5.0",
            "_view_name": "HTMLView",
            "description": "",
            "description_tooltip": null,
            "layout": "IPY_MODEL_05fcce582e9a4b73b09bf8ee33e09733",
            "placeholder": "​",
            "style": "IPY_MODEL_d9ac370f73ce415ab19fa4e59ce1da6c",
            "value": " 426/426 [01:24&lt;00:00,  5.93it/s]"
          }
        },
        "0348ee9d141149ce84315307e1186b07": {
          "model_module": "@jupyter-widgets/controls",
          "model_module_version": "1.5.0",
          "model_name": "FloatProgressModel",
          "state": {
            "_dom_classes": [],
            "_model_module": "@jupyter-widgets/controls",
            "_model_module_version": "1.5.0",
            "_model_name": "FloatProgressModel",
            "_view_count": null,
            "_view_module": "@jupyter-widgets/controls",
            "_view_module_version": "1.5.0",
            "_view_name": "ProgressView",
            "bar_style": "success",
            "description": "",
            "description_tooltip": null,
            "layout": "IPY_MODEL_4e40912528ec4322994281d722960479",
            "max": 426,
            "min": 0,
            "orientation": "horizontal",
            "style": "IPY_MODEL_a0c19be1df164eff87b69bf2a1da34f9",
            "value": 426
          }
        },
        "05fcce582e9a4b73b09bf8ee33e09733": {
          "model_module": "@jupyter-widgets/base",
          "model_module_version": "1.2.0",
          "model_name": "LayoutModel",
          "state": {
            "_model_module": "@jupyter-widgets/base",
            "_model_module_version": "1.2.0",
            "_model_name": "LayoutModel",
            "_view_count": null,
            "_view_module": "@jupyter-widgets/base",
            "_view_module_version": "1.2.0",
            "_view_name": "LayoutView",
            "align_content": null,
            "align_items": null,
            "align_self": null,
            "border": null,
            "bottom": null,
            "display": null,
            "flex": null,
            "flex_flow": null,
            "grid_area": null,
            "grid_auto_columns": null,
            "grid_auto_flow": null,
            "grid_auto_rows": null,
            "grid_column": null,
            "grid_gap": null,
            "grid_row": null,
            "grid_template_areas": null,
            "grid_template_columns": null,
            "grid_template_rows": null,
            "height": null,
            "justify_content": null,
            "justify_items": null,
            "left": null,
            "margin": null,
            "max_height": null,
            "max_width": null,
            "min_height": null,
            "min_width": null,
            "object_fit": null,
            "object_position": null,
            "order": null,
            "overflow": null,
            "overflow_x": null,
            "overflow_y": null,
            "padding": null,
            "right": null,
            "top": null,
            "visibility": null,
            "width": null
          }
        },
        "07ef91bb9155403796b394e801b3d4a8": {
          "model_module": "@jupyter-widgets/base",
          "model_module_version": "1.2.0",
          "model_name": "LayoutModel",
          "state": {
            "_model_module": "@jupyter-widgets/base",
            "_model_module_version": "1.2.0",
            "_model_name": "LayoutModel",
            "_view_count": null,
            "_view_module": "@jupyter-widgets/base",
            "_view_module_version": "1.2.0",
            "_view_name": "LayoutView",
            "align_content": null,
            "align_items": null,
            "align_self": null,
            "border": null,
            "bottom": null,
            "display": null,
            "flex": null,
            "flex_flow": null,
            "grid_area": null,
            "grid_auto_columns": null,
            "grid_auto_flow": null,
            "grid_auto_rows": null,
            "grid_column": null,
            "grid_gap": null,
            "grid_row": null,
            "grid_template_areas": null,
            "grid_template_columns": null,
            "grid_template_rows": null,
            "height": null,
            "justify_content": null,
            "justify_items": null,
            "left": null,
            "margin": null,
            "max_height": null,
            "max_width": null,
            "min_height": null,
            "min_width": null,
            "object_fit": null,
            "object_position": null,
            "order": null,
            "overflow": null,
            "overflow_x": null,
            "overflow_y": null,
            "padding": null,
            "right": null,
            "top": null,
            "visibility": null,
            "width": null
          }
        },
        "0daf36c2a9fe451c8fb1bb7d5b688b22": {
          "model_module": "@jupyter-widgets/controls",
          "model_module_version": "1.5.0",
          "model_name": "HTMLModel",
          "state": {
            "_dom_classes": [],
            "_model_module": "@jupyter-widgets/controls",
            "_model_module_version": "1.5.0",
            "_model_name": "HTMLModel",
            "_view_count": null,
            "_view_module": "@jupyter-widgets/controls",
            "_view_module_version": "1.5.0",
            "_view_name": "HTMLView",
            "description": "",
            "description_tooltip": null,
            "layout": "IPY_MODEL_4f943156bb29439c9a48f7c668424894",
            "placeholder": "​",
            "style": "IPY_MODEL_4d376fdeb32448dd9d58eddaa87b30ab",
            "value": " 71/71 [00:26&lt;00:00,  2.07it/s]"
          }
        },
        "1c8267d087e04409a5486c4215a47415": {
          "model_module": "@jupyter-widgets/controls",
          "model_module_version": "1.5.0",
          "model_name": "HTMLModel",
          "state": {
            "_dom_classes": [],
            "_model_module": "@jupyter-widgets/controls",
            "_model_module_version": "1.5.0",
            "_model_name": "HTMLModel",
            "_view_count": null,
            "_view_module": "@jupyter-widgets/controls",
            "_view_module_version": "1.5.0",
            "_view_name": "HTMLView",
            "description": "",
            "description_tooltip": null,
            "layout": "IPY_MODEL_07ef91bb9155403796b394e801b3d4a8",
            "placeholder": "​",
            "style": "IPY_MODEL_aa56856943e24bfebaff85a42cef7e12",
            "value": "100%"
          }
        },
        "1e9c43dcce5a450186d971371cb00c83": {
          "model_module": "@jupyter-widgets/base",
          "model_module_version": "1.2.0",
          "model_name": "LayoutModel",
          "state": {
            "_model_module": "@jupyter-widgets/base",
            "_model_module_version": "1.2.0",
            "_model_name": "LayoutModel",
            "_view_count": null,
            "_view_module": "@jupyter-widgets/base",
            "_view_module_version": "1.2.0",
            "_view_name": "LayoutView",
            "align_content": null,
            "align_items": null,
            "align_self": null,
            "border": null,
            "bottom": null,
            "display": null,
            "flex": null,
            "flex_flow": null,
            "grid_area": null,
            "grid_auto_columns": null,
            "grid_auto_flow": null,
            "grid_auto_rows": null,
            "grid_column": null,
            "grid_gap": null,
            "grid_row": null,
            "grid_template_areas": null,
            "grid_template_columns": null,
            "grid_template_rows": null,
            "height": null,
            "justify_content": null,
            "justify_items": null,
            "left": null,
            "margin": null,
            "max_height": null,
            "max_width": null,
            "min_height": null,
            "min_width": null,
            "object_fit": null,
            "object_position": null,
            "order": null,
            "overflow": null,
            "overflow_x": null,
            "overflow_y": null,
            "padding": null,
            "right": null,
            "top": null,
            "visibility": null,
            "width": null
          }
        },
        "34c608c21ab94a4293c37cc6c6549fa4": {
          "model_module": "@jupyter-widgets/base",
          "model_module_version": "1.2.0",
          "model_name": "LayoutModel",
          "state": {
            "_model_module": "@jupyter-widgets/base",
            "_model_module_version": "1.2.0",
            "_model_name": "LayoutModel",
            "_view_count": null,
            "_view_module": "@jupyter-widgets/base",
            "_view_module_version": "1.2.0",
            "_view_name": "LayoutView",
            "align_content": null,
            "align_items": null,
            "align_self": null,
            "border": null,
            "bottom": null,
            "display": null,
            "flex": null,
            "flex_flow": null,
            "grid_area": null,
            "grid_auto_columns": null,
            "grid_auto_flow": null,
            "grid_auto_rows": null,
            "grid_column": null,
            "grid_gap": null,
            "grid_row": null,
            "grid_template_areas": null,
            "grid_template_columns": null,
            "grid_template_rows": null,
            "height": null,
            "justify_content": null,
            "justify_items": null,
            "left": null,
            "margin": null,
            "max_height": null,
            "max_width": null,
            "min_height": null,
            "min_width": null,
            "object_fit": null,
            "object_position": null,
            "order": null,
            "overflow": null,
            "overflow_x": null,
            "overflow_y": null,
            "padding": null,
            "right": null,
            "top": null,
            "visibility": null,
            "width": null
          }
        },
        "377752ed1f6344d1912c5a51d877a0e9": {
          "model_module": "@jupyter-widgets/controls",
          "model_module_version": "1.5.0",
          "model_name": "FloatProgressModel",
          "state": {
            "_dom_classes": [],
            "_model_module": "@jupyter-widgets/controls",
            "_model_module_version": "1.5.0",
            "_model_name": "FloatProgressModel",
            "_view_count": null,
            "_view_module": "@jupyter-widgets/controls",
            "_view_module_version": "1.5.0",
            "_view_name": "ProgressView",
            "bar_style": "success",
            "description": "",
            "description_tooltip": null,
            "layout": "IPY_MODEL_ec5e1613f02747e39f2c70133252ca63",
            "max": 71,
            "min": 0,
            "orientation": "horizontal",
            "style": "IPY_MODEL_3ba55c92e34340259629f6f398e78a4c",
            "value": 71
          }
        },
        "3b37d81076244f968b91a3f30ae8f0b8": {
          "model_module": "@jupyter-widgets/controls",
          "model_module_version": "1.5.0",
          "model_name": "FloatProgressModel",
          "state": {
            "_dom_classes": [],
            "_model_module": "@jupyter-widgets/controls",
            "_model_module_version": "1.5.0",
            "_model_name": "FloatProgressModel",
            "_view_count": null,
            "_view_module": "@jupyter-widgets/controls",
            "_view_module_version": "1.5.0",
            "_view_name": "ProgressView",
            "bar_style": "success",
            "description": "",
            "description_tooltip": null,
            "layout": "IPY_MODEL_40f20a34105f43e481d9d0fc3f2f6132",
            "max": 574067219,
            "min": 0,
            "orientation": "horizontal",
            "style": "IPY_MODEL_991832c2de0d47cf887b4fff04a25abd",
            "value": 574067219
          }
        },
        "3ba55c92e34340259629f6f398e78a4c": {
          "model_module": "@jupyter-widgets/controls",
          "model_module_version": "1.5.0",
          "model_name": "ProgressStyleModel",
          "state": {
            "_model_module": "@jupyter-widgets/controls",
            "_model_module_version": "1.5.0",
            "_model_name": "ProgressStyleModel",
            "_view_count": null,
            "_view_module": "@jupyter-widgets/base",
            "_view_module_version": "1.2.0",
            "_view_name": "StyleView",
            "bar_color": null,
            "description_width": ""
          }
        },
        "3c3e405a9ea44cb081379bf0ef9e571d": {
          "model_module": "@jupyter-widgets/controls",
          "model_module_version": "1.5.0",
          "model_name": "DescriptionStyleModel",
          "state": {
            "_model_module": "@jupyter-widgets/controls",
            "_model_module_version": "1.5.0",
            "_model_name": "DescriptionStyleModel",
            "_view_count": null,
            "_view_module": "@jupyter-widgets/base",
            "_view_module_version": "1.2.0",
            "_view_name": "StyleView",
            "description_width": ""
          }
        },
        "40f20a34105f43e481d9d0fc3f2f6132": {
          "model_module": "@jupyter-widgets/base",
          "model_module_version": "1.2.0",
          "model_name": "LayoutModel",
          "state": {
            "_model_module": "@jupyter-widgets/base",
            "_model_module_version": "1.2.0",
            "_model_name": "LayoutModel",
            "_view_count": null,
            "_view_module": "@jupyter-widgets/base",
            "_view_module_version": "1.2.0",
            "_view_name": "LayoutView",
            "align_content": null,
            "align_items": null,
            "align_self": null,
            "border": null,
            "bottom": null,
            "display": null,
            "flex": null,
            "flex_flow": null,
            "grid_area": null,
            "grid_auto_columns": null,
            "grid_auto_flow": null,
            "grid_auto_rows": null,
            "grid_column": null,
            "grid_gap": null,
            "grid_row": null,
            "grid_template_areas": null,
            "grid_template_columns": null,
            "grid_template_rows": null,
            "height": null,
            "justify_content": null,
            "justify_items": null,
            "left": null,
            "margin": null,
            "max_height": null,
            "max_width": null,
            "min_height": null,
            "min_width": null,
            "object_fit": null,
            "object_position": null,
            "order": null,
            "overflow": null,
            "overflow_x": null,
            "overflow_y": null,
            "padding": null,
            "right": null,
            "top": null,
            "visibility": null,
            "width": null
          }
        },
        "4c895b07c6514d17a1f13ed574050919": {
          "model_module": "@jupyter-widgets/base",
          "model_module_version": "1.2.0",
          "model_name": "LayoutModel",
          "state": {
            "_model_module": "@jupyter-widgets/base",
            "_model_module_version": "1.2.0",
            "_model_name": "LayoutModel",
            "_view_count": null,
            "_view_module": "@jupyter-widgets/base",
            "_view_module_version": "1.2.0",
            "_view_name": "LayoutView",
            "align_content": null,
            "align_items": null,
            "align_self": null,
            "border": null,
            "bottom": null,
            "display": null,
            "flex": null,
            "flex_flow": null,
            "grid_area": null,
            "grid_auto_columns": null,
            "grid_auto_flow": null,
            "grid_auto_rows": null,
            "grid_column": null,
            "grid_gap": null,
            "grid_row": null,
            "grid_template_areas": null,
            "grid_template_columns": null,
            "grid_template_rows": null,
            "height": null,
            "justify_content": null,
            "justify_items": null,
            "left": null,
            "margin": null,
            "max_height": null,
            "max_width": null,
            "min_height": null,
            "min_width": null,
            "object_fit": null,
            "object_position": null,
            "order": null,
            "overflow": null,
            "overflow_x": null,
            "overflow_y": null,
            "padding": null,
            "right": null,
            "top": null,
            "visibility": null,
            "width": null
          }
        },
        "4ce130f864bb432c9aabd0464eda4f0e": {
          "model_module": "@jupyter-widgets/controls",
          "model_module_version": "1.5.0",
          "model_name": "DescriptionStyleModel",
          "state": {
            "_model_module": "@jupyter-widgets/controls",
            "_model_module_version": "1.5.0",
            "_model_name": "DescriptionStyleModel",
            "_view_count": null,
            "_view_module": "@jupyter-widgets/base",
            "_view_module_version": "1.2.0",
            "_view_name": "StyleView",
            "description_width": ""
          }
        },
        "4d376fdeb32448dd9d58eddaa87b30ab": {
          "model_module": "@jupyter-widgets/controls",
          "model_module_version": "1.5.0",
          "model_name": "DescriptionStyleModel",
          "state": {
            "_model_module": "@jupyter-widgets/controls",
            "_model_module_version": "1.5.0",
            "_model_name": "DescriptionStyleModel",
            "_view_count": null,
            "_view_module": "@jupyter-widgets/base",
            "_view_module_version": "1.2.0",
            "_view_name": "StyleView",
            "description_width": ""
          }
        },
        "4df5566ae71647988025e5ef69c2abf0": {
          "model_module": "@jupyter-widgets/controls",
          "model_module_version": "1.5.0",
          "model_name": "DescriptionStyleModel",
          "state": {
            "_model_module": "@jupyter-widgets/controls",
            "_model_module_version": "1.5.0",
            "_model_name": "DescriptionStyleModel",
            "_view_count": null,
            "_view_module": "@jupyter-widgets/base",
            "_view_module_version": "1.2.0",
            "_view_name": "StyleView",
            "description_width": ""
          }
        },
        "4e40912528ec4322994281d722960479": {
          "model_module": "@jupyter-widgets/base",
          "model_module_version": "1.2.0",
          "model_name": "LayoutModel",
          "state": {
            "_model_module": "@jupyter-widgets/base",
            "_model_module_version": "1.2.0",
            "_model_name": "LayoutModel",
            "_view_count": null,
            "_view_module": "@jupyter-widgets/base",
            "_view_module_version": "1.2.0",
            "_view_name": "LayoutView",
            "align_content": null,
            "align_items": null,
            "align_self": null,
            "border": null,
            "bottom": null,
            "display": null,
            "flex": null,
            "flex_flow": null,
            "grid_area": null,
            "grid_auto_columns": null,
            "grid_auto_flow": null,
            "grid_auto_rows": null,
            "grid_column": null,
            "grid_gap": null,
            "grid_row": null,
            "grid_template_areas": null,
            "grid_template_columns": null,
            "grid_template_rows": null,
            "height": null,
            "justify_content": null,
            "justify_items": null,
            "left": null,
            "margin": null,
            "max_height": null,
            "max_width": null,
            "min_height": null,
            "min_width": null,
            "object_fit": null,
            "object_position": null,
            "order": null,
            "overflow": null,
            "overflow_x": null,
            "overflow_y": null,
            "padding": null,
            "right": null,
            "top": null,
            "visibility": null,
            "width": null
          }
        },
        "4e7aa84a0309493aabc4db86f4f47514": {
          "model_module": "@jupyter-widgets/controls",
          "model_module_version": "1.5.0",
          "model_name": "ProgressStyleModel",
          "state": {
            "_model_module": "@jupyter-widgets/controls",
            "_model_module_version": "1.5.0",
            "_model_name": "ProgressStyleModel",
            "_view_count": null,
            "_view_module": "@jupyter-widgets/base",
            "_view_module_version": "1.2.0",
            "_view_name": "StyleView",
            "bar_color": null,
            "description_width": ""
          }
        },
        "4f943156bb29439c9a48f7c668424894": {
          "model_module": "@jupyter-widgets/base",
          "model_module_version": "1.2.0",
          "model_name": "LayoutModel",
          "state": {
            "_model_module": "@jupyter-widgets/base",
            "_model_module_version": "1.2.0",
            "_model_name": "LayoutModel",
            "_view_count": null,
            "_view_module": "@jupyter-widgets/base",
            "_view_module_version": "1.2.0",
            "_view_name": "LayoutView",
            "align_content": null,
            "align_items": null,
            "align_self": null,
            "border": null,
            "bottom": null,
            "display": null,
            "flex": null,
            "flex_flow": null,
            "grid_area": null,
            "grid_auto_columns": null,
            "grid_auto_flow": null,
            "grid_auto_rows": null,
            "grid_column": null,
            "grid_gap": null,
            "grid_row": null,
            "grid_template_areas": null,
            "grid_template_columns": null,
            "grid_template_rows": null,
            "height": null,
            "justify_content": null,
            "justify_items": null,
            "left": null,
            "margin": null,
            "max_height": null,
            "max_width": null,
            "min_height": null,
            "min_width": null,
            "object_fit": null,
            "object_position": null,
            "order": null,
            "overflow": null,
            "overflow_x": null,
            "overflow_y": null,
            "padding": null,
            "right": null,
            "top": null,
            "visibility": null,
            "width": null
          }
        },
        "555b4fe513754fb98599270b7dfa0a8c": {
          "model_module": "@jupyter-widgets/controls",
          "model_module_version": "1.5.0",
          "model_name": "HBoxModel",
          "state": {
            "_dom_classes": [],
            "_model_module": "@jupyter-widgets/controls",
            "_model_module_version": "1.5.0",
            "_model_name": "HBoxModel",
            "_view_count": null,
            "_view_module": "@jupyter-widgets/controls",
            "_view_module_version": "1.5.0",
            "_view_name": "HBoxView",
            "box_style": "",
            "children": [
              "IPY_MODEL_a6e54ffd2d9842389b5a63360497a2f1",
              "IPY_MODEL_5591714301ee487794560dbcec67ff5e",
              "IPY_MODEL_9d940a2cf2a449d9968623c2bb114535"
            ],
            "layout": "IPY_MODEL_717d9ff1b8e54d4f9238ec6e353f1e57"
          }
        },
        "5591714301ee487794560dbcec67ff5e": {
          "model_module": "@jupyter-widgets/controls",
          "model_module_version": "1.5.0",
          "model_name": "FloatProgressModel",
          "state": {
            "_dom_classes": [],
            "_model_module": "@jupyter-widgets/controls",
            "_model_module_version": "1.5.0",
            "_model_name": "FloatProgressModel",
            "_view_count": null,
            "_view_module": "@jupyter-widgets/controls",
            "_view_module_version": "1.5.0",
            "_view_name": "ProgressView",
            "bar_style": "success",
            "description": "",
            "description_tooltip": null,
            "layout": "IPY_MODEL_8c6e6ecc1c5b4c7584a6dc12db6fe82c",
            "max": 24459,
            "min": 0,
            "orientation": "horizontal",
            "style": "IPY_MODEL_4e7aa84a0309493aabc4db86f4f47514",
            "value": 24459
          }
        },
        "56617c05746442218f3aa895c9baee49": {
          "model_module": "@jupyter-widgets/controls",
          "model_module_version": "1.5.0",
          "model_name": "DescriptionStyleModel",
          "state": {
            "_model_module": "@jupyter-widgets/controls",
            "_model_module_version": "1.5.0",
            "_model_name": "DescriptionStyleModel",
            "_view_count": null,
            "_view_module": "@jupyter-widgets/base",
            "_view_module_version": "1.2.0",
            "_view_name": "StyleView",
            "description_width": ""
          }
        },
        "592a25f39aab4a039fc3a80a956f86fc": {
          "model_module": "@jupyter-widgets/controls",
          "model_module_version": "1.5.0",
          "model_name": "ProgressStyleModel",
          "state": {
            "_model_module": "@jupyter-widgets/controls",
            "_model_module_version": "1.5.0",
            "_model_name": "ProgressStyleModel",
            "_view_count": null,
            "_view_module": "@jupyter-widgets/base",
            "_view_module_version": "1.2.0",
            "_view_name": "StyleView",
            "bar_color": null,
            "description_width": ""
          }
        },
        "5ddebad2fc174e8abdd9b7868a0f155d": {
          "model_module": "@jupyter-widgets/base",
          "model_module_version": "1.2.0",
          "model_name": "LayoutModel",
          "state": {
            "_model_module": "@jupyter-widgets/base",
            "_model_module_version": "1.2.0",
            "_model_name": "LayoutModel",
            "_view_count": null,
            "_view_module": "@jupyter-widgets/base",
            "_view_module_version": "1.2.0",
            "_view_name": "LayoutView",
            "align_content": null,
            "align_items": null,
            "align_self": null,
            "border": null,
            "bottom": null,
            "display": null,
            "flex": null,
            "flex_flow": null,
            "grid_area": null,
            "grid_auto_columns": null,
            "grid_auto_flow": null,
            "grid_auto_rows": null,
            "grid_column": null,
            "grid_gap": null,
            "grid_row": null,
            "grid_template_areas": null,
            "grid_template_columns": null,
            "grid_template_rows": null,
            "height": null,
            "justify_content": null,
            "justify_items": null,
            "left": null,
            "margin": null,
            "max_height": null,
            "max_width": null,
            "min_height": null,
            "min_width": null,
            "object_fit": null,
            "object_position": null,
            "order": null,
            "overflow": null,
            "overflow_x": null,
            "overflow_y": null,
            "padding": null,
            "right": null,
            "top": null,
            "visibility": null,
            "width": null
          }
        },
        "5ebb8cced0154b608ebb3abeb67056d6": {
          "model_module": "@jupyter-widgets/base",
          "model_module_version": "1.2.0",
          "model_name": "LayoutModel",
          "state": {
            "_model_module": "@jupyter-widgets/base",
            "_model_module_version": "1.2.0",
            "_model_name": "LayoutModel",
            "_view_count": null,
            "_view_module": "@jupyter-widgets/base",
            "_view_module_version": "1.2.0",
            "_view_name": "LayoutView",
            "align_content": null,
            "align_items": null,
            "align_self": null,
            "border": null,
            "bottom": null,
            "display": null,
            "flex": null,
            "flex_flow": null,
            "grid_area": null,
            "grid_auto_columns": null,
            "grid_auto_flow": null,
            "grid_auto_rows": null,
            "grid_column": null,
            "grid_gap": null,
            "grid_row": null,
            "grid_template_areas": null,
            "grid_template_columns": null,
            "grid_template_rows": null,
            "height": null,
            "justify_content": null,
            "justify_items": null,
            "left": null,
            "margin": null,
            "max_height": null,
            "max_width": null,
            "min_height": null,
            "min_width": null,
            "object_fit": null,
            "object_position": null,
            "order": null,
            "overflow": null,
            "overflow_x": null,
            "overflow_y": null,
            "padding": null,
            "right": null,
            "top": null,
            "visibility": null,
            "width": null
          }
        },
        "608136b572104d95bc95ed023e12ee5d": {
          "model_module": "@jupyter-widgets/controls",
          "model_module_version": "1.5.0",
          "model_name": "DescriptionStyleModel",
          "state": {
            "_model_module": "@jupyter-widgets/controls",
            "_model_module_version": "1.5.0",
            "_model_name": "DescriptionStyleModel",
            "_view_count": null,
            "_view_module": "@jupyter-widgets/base",
            "_view_module_version": "1.2.0",
            "_view_name": "StyleView",
            "description_width": ""
          }
        },
        "69237daafdd5482bb248030836cb36f4": {
          "model_module": "@jupyter-widgets/base",
          "model_module_version": "1.2.0",
          "model_name": "LayoutModel",
          "state": {
            "_model_module": "@jupyter-widgets/base",
            "_model_module_version": "1.2.0",
            "_model_name": "LayoutModel",
            "_view_count": null,
            "_view_module": "@jupyter-widgets/base",
            "_view_module_version": "1.2.0",
            "_view_name": "LayoutView",
            "align_content": null,
            "align_items": null,
            "align_self": null,
            "border": null,
            "bottom": null,
            "display": null,
            "flex": null,
            "flex_flow": null,
            "grid_area": null,
            "grid_auto_columns": null,
            "grid_auto_flow": null,
            "grid_auto_rows": null,
            "grid_column": null,
            "grid_gap": null,
            "grid_row": null,
            "grid_template_areas": null,
            "grid_template_columns": null,
            "grid_template_rows": null,
            "height": null,
            "justify_content": null,
            "justify_items": null,
            "left": null,
            "margin": null,
            "max_height": null,
            "max_width": null,
            "min_height": null,
            "min_width": null,
            "object_fit": null,
            "object_position": null,
            "order": null,
            "overflow": null,
            "overflow_x": null,
            "overflow_y": null,
            "padding": null,
            "right": null,
            "top": null,
            "visibility": null,
            "width": null
          }
        },
        "6dcf458ae866430a8ae0cdda93460f10": {
          "model_module": "@jupyter-widgets/controls",
          "model_module_version": "1.5.0",
          "model_name": "HBoxModel",
          "state": {
            "_dom_classes": [],
            "_model_module": "@jupyter-widgets/controls",
            "_model_module_version": "1.5.0",
            "_model_name": "HBoxModel",
            "_view_count": null,
            "_view_module": "@jupyter-widgets/controls",
            "_view_module_version": "1.5.0",
            "_view_name": "HBoxView",
            "box_style": "",
            "children": [
              "IPY_MODEL_854914ade45343048b88fa910d5a2839",
              "IPY_MODEL_377752ed1f6344d1912c5a51d877a0e9",
              "IPY_MODEL_0daf36c2a9fe451c8fb1bb7d5b688b22"
            ],
            "layout": "IPY_MODEL_bd00e679c9304630a8ba008794c61b19"
          }
        },
        "717d9ff1b8e54d4f9238ec6e353f1e57": {
          "model_module": "@jupyter-widgets/base",
          "model_module_version": "1.2.0",
          "model_name": "LayoutModel",
          "state": {
            "_model_module": "@jupyter-widgets/base",
            "_model_module_version": "1.2.0",
            "_model_name": "LayoutModel",
            "_view_count": null,
            "_view_module": "@jupyter-widgets/base",
            "_view_module_version": "1.2.0",
            "_view_name": "LayoutView",
            "align_content": null,
            "align_items": null,
            "align_self": null,
            "border": null,
            "bottom": null,
            "display": null,
            "flex": null,
            "flex_flow": null,
            "grid_area": null,
            "grid_auto_columns": null,
            "grid_auto_flow": null,
            "grid_auto_rows": null,
            "grid_column": null,
            "grid_gap": null,
            "grid_row": null,
            "grid_template_areas": null,
            "grid_template_columns": null,
            "grid_template_rows": null,
            "height": null,
            "justify_content": null,
            "justify_items": null,
            "left": null,
            "margin": null,
            "max_height": null,
            "max_width": null,
            "min_height": null,
            "min_width": null,
            "object_fit": null,
            "object_position": null,
            "order": null,
            "overflow": null,
            "overflow_x": null,
            "overflow_y": null,
            "padding": null,
            "right": null,
            "top": null,
            "visibility": null,
            "width": null
          }
        },
        "71ccd20f0e6645eab5cf893e57ffc5ba": {
          "model_module": "@jupyter-widgets/controls",
          "model_module_version": "1.5.0",
          "model_name": "HTMLModel",
          "state": {
            "_dom_classes": [],
            "_model_module": "@jupyter-widgets/controls",
            "_model_module_version": "1.5.0",
            "_model_name": "HTMLModel",
            "_view_count": null,
            "_view_module": "@jupyter-widgets/controls",
            "_view_module_version": "1.5.0",
            "_view_name": "HTMLView",
            "description": "",
            "description_tooltip": null,
            "layout": "IPY_MODEL_4c895b07c6514d17a1f13ed574050919",
            "placeholder": "​",
            "style": "IPY_MODEL_608136b572104d95bc95ed023e12ee5d",
            "value": "100%"
          }
        },
        "752234b4108f4c179a02f6d53fc3b602": {
          "model_module": "@jupyter-widgets/controls",
          "model_module_version": "1.5.0",
          "model_name": "HTMLModel",
          "state": {
            "_dom_classes": [],
            "_model_module": "@jupyter-widgets/controls",
            "_model_module_version": "1.5.0",
            "_model_name": "HTMLModel",
            "_view_count": null,
            "_view_module": "@jupyter-widgets/controls",
            "_view_module_version": "1.5.0",
            "_view_name": "HTMLView",
            "description": "",
            "description_tooltip": null,
            "layout": "IPY_MODEL_5ebb8cced0154b608ebb3abeb67056d6",
            "placeholder": "​",
            "style": "IPY_MODEL_79127a716eed48e6b1435a4f840208c6",
            "value": " 71/71 [00:13&lt;00:00,  3.93it/s]"
          }
        },
        "79127a716eed48e6b1435a4f840208c6": {
          "model_module": "@jupyter-widgets/controls",
          "model_module_version": "1.5.0",
          "model_name": "DescriptionStyleModel",
          "state": {
            "_model_module": "@jupyter-widgets/controls",
            "_model_module_version": "1.5.0",
            "_model_name": "DescriptionStyleModel",
            "_view_count": null,
            "_view_module": "@jupyter-widgets/base",
            "_view_module_version": "1.2.0",
            "_view_name": "StyleView",
            "description_width": ""
          }
        },
        "832c0a5f07ba4944ac0312300d09226f": {
          "model_module": "@jupyter-widgets/base",
          "model_module_version": "1.2.0",
          "model_name": "LayoutModel",
          "state": {
            "_model_module": "@jupyter-widgets/base",
            "_model_module_version": "1.2.0",
            "_model_name": "LayoutModel",
            "_view_count": null,
            "_view_module": "@jupyter-widgets/base",
            "_view_module_version": "1.2.0",
            "_view_name": "LayoutView",
            "align_content": null,
            "align_items": null,
            "align_self": null,
            "border": null,
            "bottom": null,
            "display": null,
            "flex": null,
            "flex_flow": null,
            "grid_area": null,
            "grid_auto_columns": null,
            "grid_auto_flow": null,
            "grid_auto_rows": null,
            "grid_column": null,
            "grid_gap": null,
            "grid_row": null,
            "grid_template_areas": null,
            "grid_template_columns": null,
            "grid_template_rows": null,
            "height": null,
            "justify_content": null,
            "justify_items": null,
            "left": null,
            "margin": null,
            "max_height": null,
            "max_width": null,
            "min_height": null,
            "min_width": null,
            "object_fit": null,
            "object_position": null,
            "order": null,
            "overflow": null,
            "overflow_x": null,
            "overflow_y": null,
            "padding": null,
            "right": null,
            "top": null,
            "visibility": null,
            "width": null
          }
        },
        "854914ade45343048b88fa910d5a2839": {
          "model_module": "@jupyter-widgets/controls",
          "model_module_version": "1.5.0",
          "model_name": "HTMLModel",
          "state": {
            "_dom_classes": [],
            "_model_module": "@jupyter-widgets/controls",
            "_model_module_version": "1.5.0",
            "_model_name": "HTMLModel",
            "_view_count": null,
            "_view_module": "@jupyter-widgets/controls",
            "_view_module_version": "1.5.0",
            "_view_name": "HTMLView",
            "description": "",
            "description_tooltip": null,
            "layout": "IPY_MODEL_69237daafdd5482bb248030836cb36f4",
            "placeholder": "​",
            "style": "IPY_MODEL_56617c05746442218f3aa895c9baee49",
            "value": "100%"
          }
        },
        "8bbf70c63dd240dba979d55cb034567d": {
          "model_module": "@jupyter-widgets/controls",
          "model_module_version": "1.5.0",
          "model_name": "FloatProgressModel",
          "state": {
            "_dom_classes": [],
            "_model_module": "@jupyter-widgets/controls",
            "_model_module_version": "1.5.0",
            "_model_name": "FloatProgressModel",
            "_view_count": null,
            "_view_module": "@jupyter-widgets/controls",
            "_view_module_version": "1.5.0",
            "_view_name": "ProgressView",
            "bar_style": "success",
            "description": "",
            "description_tooltip": null,
            "layout": "IPY_MODEL_930abfba087a44fdb818aaec88a7a44c",
            "max": 71,
            "min": 0,
            "orientation": "horizontal",
            "style": "IPY_MODEL_592a25f39aab4a039fc3a80a956f86fc",
            "value": 71
          }
        },
        "8c6e6ecc1c5b4c7584a6dc12db6fe82c": {
          "model_module": "@jupyter-widgets/base",
          "model_module_version": "1.2.0",
          "model_name": "LayoutModel",
          "state": {
            "_model_module": "@jupyter-widgets/base",
            "_model_module_version": "1.2.0",
            "_model_name": "LayoutModel",
            "_view_count": null,
            "_view_module": "@jupyter-widgets/base",
            "_view_module_version": "1.2.0",
            "_view_name": "LayoutView",
            "align_content": null,
            "align_items": null,
            "align_self": null,
            "border": null,
            "bottom": null,
            "display": null,
            "flex": null,
            "flex_flow": null,
            "grid_area": null,
            "grid_auto_columns": null,
            "grid_auto_flow": null,
            "grid_auto_rows": null,
            "grid_column": null,
            "grid_gap": null,
            "grid_row": null,
            "grid_template_areas": null,
            "grid_template_columns": null,
            "grid_template_rows": null,
            "height": null,
            "justify_content": null,
            "justify_items": null,
            "left": null,
            "margin": null,
            "max_height": null,
            "max_width": null,
            "min_height": null,
            "min_width": null,
            "object_fit": null,
            "object_position": null,
            "order": null,
            "overflow": null,
            "overflow_x": null,
            "overflow_y": null,
            "padding": null,
            "right": null,
            "top": null,
            "visibility": null,
            "width": null
          }
        },
        "930abfba087a44fdb818aaec88a7a44c": {
          "model_module": "@jupyter-widgets/base",
          "model_module_version": "1.2.0",
          "model_name": "LayoutModel",
          "state": {
            "_model_module": "@jupyter-widgets/base",
            "_model_module_version": "1.2.0",
            "_model_name": "LayoutModel",
            "_view_count": null,
            "_view_module": "@jupyter-widgets/base",
            "_view_module_version": "1.2.0",
            "_view_name": "LayoutView",
            "align_content": null,
            "align_items": null,
            "align_self": null,
            "border": null,
            "bottom": null,
            "display": null,
            "flex": null,
            "flex_flow": null,
            "grid_area": null,
            "grid_auto_columns": null,
            "grid_auto_flow": null,
            "grid_auto_rows": null,
            "grid_column": null,
            "grid_gap": null,
            "grid_row": null,
            "grid_template_areas": null,
            "grid_template_columns": null,
            "grid_template_rows": null,
            "height": null,
            "justify_content": null,
            "justify_items": null,
            "left": null,
            "margin": null,
            "max_height": null,
            "max_width": null,
            "min_height": null,
            "min_width": null,
            "object_fit": null,
            "object_position": null,
            "order": null,
            "overflow": null,
            "overflow_x": null,
            "overflow_y": null,
            "padding": null,
            "right": null,
            "top": null,
            "visibility": null,
            "width": null
          }
        },
        "991832c2de0d47cf887b4fff04a25abd": {
          "model_module": "@jupyter-widgets/controls",
          "model_module_version": "1.5.0",
          "model_name": "ProgressStyleModel",
          "state": {
            "_model_module": "@jupyter-widgets/controls",
            "_model_module_version": "1.5.0",
            "_model_name": "ProgressStyleModel",
            "_view_count": null,
            "_view_module": "@jupyter-widgets/base",
            "_view_module_version": "1.2.0",
            "_view_name": "StyleView",
            "bar_color": null,
            "description_width": ""
          }
        },
        "9d217c032687496f85b911df424cb86a": {
          "model_module": "@jupyter-widgets/controls",
          "model_module_version": "1.5.0",
          "model_name": "HTMLModel",
          "state": {
            "_dom_classes": [],
            "_model_module": "@jupyter-widgets/controls",
            "_model_module_version": "1.5.0",
            "_model_name": "HTMLModel",
            "_view_count": null,
            "_view_module": "@jupyter-widgets/controls",
            "_view_module_version": "1.5.0",
            "_view_name": "HTMLView",
            "description": "",
            "description_tooltip": null,
            "layout": "IPY_MODEL_34c608c21ab94a4293c37cc6c6549fa4",
            "placeholder": "​",
            "style": "IPY_MODEL_e2a861ebea70404c8f516c3ad5744e81",
            "value": "Downloading https://huggingface.co/stanfordnlp/stanza-ru/resolve/v1.3.0/models/default.zip: 100%"
          }
        },
        "9d940a2cf2a449d9968623c2bb114535": {
          "model_module": "@jupyter-widgets/controls",
          "model_module_version": "1.5.0",
          "model_name": "HTMLModel",
          "state": {
            "_dom_classes": [],
            "_model_module": "@jupyter-widgets/controls",
            "_model_module_version": "1.5.0",
            "_model_name": "HTMLModel",
            "_view_count": null,
            "_view_module": "@jupyter-widgets/controls",
            "_view_module_version": "1.5.0",
            "_view_name": "HTMLView",
            "description": "",
            "description_tooltip": null,
            "layout": "IPY_MODEL_5ddebad2fc174e8abdd9b7868a0f155d",
            "placeholder": "​",
            "style": "IPY_MODEL_4ce130f864bb432c9aabd0464eda4f0e",
            "value": " 142k/? [00:00&lt;00:00, 788kB/s]"
          }
        },
        "a0c19be1df164eff87b69bf2a1da34f9": {
          "model_module": "@jupyter-widgets/controls",
          "model_module_version": "1.5.0",
          "model_name": "ProgressStyleModel",
          "state": {
            "_model_module": "@jupyter-widgets/controls",
            "_model_module_version": "1.5.0",
            "_model_name": "ProgressStyleModel",
            "_view_count": null,
            "_view_module": "@jupyter-widgets/base",
            "_view_module_version": "1.2.0",
            "_view_name": "StyleView",
            "bar_color": null,
            "description_width": ""
          }
        },
        "a6e54ffd2d9842389b5a63360497a2f1": {
          "model_module": "@jupyter-widgets/controls",
          "model_module_version": "1.5.0",
          "model_name": "HTMLModel",
          "state": {
            "_dom_classes": [],
            "_model_module": "@jupyter-widgets/controls",
            "_model_module_version": "1.5.0",
            "_model_name": "HTMLModel",
            "_view_count": null,
            "_view_module": "@jupyter-widgets/controls",
            "_view_module_version": "1.5.0",
            "_view_name": "HTMLView",
            "description": "",
            "description_tooltip": null,
            "layout": "IPY_MODEL_e4827eb3804e4e54a6892897124bd7d1",
            "placeholder": "​",
            "style": "IPY_MODEL_4df5566ae71647988025e5ef69c2abf0",
            "value": "Downloading https://raw.githubusercontent.com/stanfordnlp/stanza-resources/main/resources_1.3.0.json: "
          }
        },
        "a6f0f4c3a8a24409a1615151245c46f2": {
          "model_module": "@jupyter-widgets/controls",
          "model_module_version": "1.5.0",
          "model_name": "HTMLModel",
          "state": {
            "_dom_classes": [],
            "_model_module": "@jupyter-widgets/controls",
            "_model_module_version": "1.5.0",
            "_model_name": "HTMLModel",
            "_view_count": null,
            "_view_module": "@jupyter-widgets/controls",
            "_view_module_version": "1.5.0",
            "_view_name": "HTMLView",
            "description": "",
            "description_tooltip": null,
            "layout": "IPY_MODEL_bc20210c81ce42d2a5b092cc22b73eda",
            "placeholder": "​",
            "style": "IPY_MODEL_3c3e405a9ea44cb081379bf0ef9e571d",
            "value": " 574M/574M [00:08&lt;00:00, 89.0MB/s]"
          }
        },
        "aa56856943e24bfebaff85a42cef7e12": {
          "model_module": "@jupyter-widgets/controls",
          "model_module_version": "1.5.0",
          "model_name": "DescriptionStyleModel",
          "state": {
            "_model_module": "@jupyter-widgets/controls",
            "_model_module_version": "1.5.0",
            "_model_name": "DescriptionStyleModel",
            "_view_count": null,
            "_view_module": "@jupyter-widgets/base",
            "_view_module_version": "1.2.0",
            "_view_name": "StyleView",
            "description_width": ""
          }
        },
        "bc20210c81ce42d2a5b092cc22b73eda": {
          "model_module": "@jupyter-widgets/base",
          "model_module_version": "1.2.0",
          "model_name": "LayoutModel",
          "state": {
            "_model_module": "@jupyter-widgets/base",
            "_model_module_version": "1.2.0",
            "_model_name": "LayoutModel",
            "_view_count": null,
            "_view_module": "@jupyter-widgets/base",
            "_view_module_version": "1.2.0",
            "_view_name": "LayoutView",
            "align_content": null,
            "align_items": null,
            "align_self": null,
            "border": null,
            "bottom": null,
            "display": null,
            "flex": null,
            "flex_flow": null,
            "grid_area": null,
            "grid_auto_columns": null,
            "grid_auto_flow": null,
            "grid_auto_rows": null,
            "grid_column": null,
            "grid_gap": null,
            "grid_row": null,
            "grid_template_areas": null,
            "grid_template_columns": null,
            "grid_template_rows": null,
            "height": null,
            "justify_content": null,
            "justify_items": null,
            "left": null,
            "margin": null,
            "max_height": null,
            "max_width": null,
            "min_height": null,
            "min_width": null,
            "object_fit": null,
            "object_position": null,
            "order": null,
            "overflow": null,
            "overflow_x": null,
            "overflow_y": null,
            "padding": null,
            "right": null,
            "top": null,
            "visibility": null,
            "width": null
          }
        },
        "bd00e679c9304630a8ba008794c61b19": {
          "model_module": "@jupyter-widgets/base",
          "model_module_version": "1.2.0",
          "model_name": "LayoutModel",
          "state": {
            "_model_module": "@jupyter-widgets/base",
            "_model_module_version": "1.2.0",
            "_model_name": "LayoutModel",
            "_view_count": null,
            "_view_module": "@jupyter-widgets/base",
            "_view_module_version": "1.2.0",
            "_view_name": "LayoutView",
            "align_content": null,
            "align_items": null,
            "align_self": null,
            "border": null,
            "bottom": null,
            "display": null,
            "flex": null,
            "flex_flow": null,
            "grid_area": null,
            "grid_auto_columns": null,
            "grid_auto_flow": null,
            "grid_auto_rows": null,
            "grid_column": null,
            "grid_gap": null,
            "grid_row": null,
            "grid_template_areas": null,
            "grid_template_columns": null,
            "grid_template_rows": null,
            "height": null,
            "justify_content": null,
            "justify_items": null,
            "left": null,
            "margin": null,
            "max_height": null,
            "max_width": null,
            "min_height": null,
            "min_width": null,
            "object_fit": null,
            "object_position": null,
            "order": null,
            "overflow": null,
            "overflow_x": null,
            "overflow_y": null,
            "padding": null,
            "right": null,
            "top": null,
            "visibility": null,
            "width": null
          }
        },
        "c2e7895c94804d8ca913e0a8c01889cf": {
          "model_module": "@jupyter-widgets/controls",
          "model_module_version": "1.5.0",
          "model_name": "HBoxModel",
          "state": {
            "_dom_classes": [],
            "_model_module": "@jupyter-widgets/controls",
            "_model_module_version": "1.5.0",
            "_model_name": "HBoxModel",
            "_view_count": null,
            "_view_module": "@jupyter-widgets/controls",
            "_view_module_version": "1.5.0",
            "_view_name": "HBoxView",
            "box_style": "",
            "children": [
              "IPY_MODEL_71ccd20f0e6645eab5cf893e57ffc5ba",
              "IPY_MODEL_0348ee9d141149ce84315307e1186b07",
              "IPY_MODEL_001f6f15dabd4ceca3dde95528e13c0c"
            ],
            "layout": "IPY_MODEL_1e9c43dcce5a450186d971371cb00c83"
          }
        },
        "c322a1e10eaa4fbfa39f0b7ee87b2660": {
          "model_module": "@jupyter-widgets/controls",
          "model_module_version": "1.5.0",
          "model_name": "HBoxModel",
          "state": {
            "_dom_classes": [],
            "_model_module": "@jupyter-widgets/controls",
            "_model_module_version": "1.5.0",
            "_model_name": "HBoxModel",
            "_view_count": null,
            "_view_module": "@jupyter-widgets/controls",
            "_view_module_version": "1.5.0",
            "_view_name": "HBoxView",
            "box_style": "",
            "children": [
              "IPY_MODEL_1c8267d087e04409a5486c4215a47415",
              "IPY_MODEL_8bbf70c63dd240dba979d55cb034567d",
              "IPY_MODEL_752234b4108f4c179a02f6d53fc3b602"
            ],
            "layout": "IPY_MODEL_f3fe36da549b42cab7826270342f4815"
          }
        },
        "d1f11b39d3834fbd85ac4b279c1f6620": {
          "model_module": "@jupyter-widgets/controls",
          "model_module_version": "1.5.0",
          "model_name": "HBoxModel",
          "state": {
            "_dom_classes": [],
            "_model_module": "@jupyter-widgets/controls",
            "_model_module_version": "1.5.0",
            "_model_name": "HBoxModel",
            "_view_count": null,
            "_view_module": "@jupyter-widgets/controls",
            "_view_module_version": "1.5.0",
            "_view_name": "HBoxView",
            "box_style": "",
            "children": [
              "IPY_MODEL_9d217c032687496f85b911df424cb86a",
              "IPY_MODEL_3b37d81076244f968b91a3f30ae8f0b8",
              "IPY_MODEL_a6f0f4c3a8a24409a1615151245c46f2"
            ],
            "layout": "IPY_MODEL_832c0a5f07ba4944ac0312300d09226f"
          }
        },
        "d9ac370f73ce415ab19fa4e59ce1da6c": {
          "model_module": "@jupyter-widgets/controls",
          "model_module_version": "1.5.0",
          "model_name": "DescriptionStyleModel",
          "state": {
            "_model_module": "@jupyter-widgets/controls",
            "_model_module_version": "1.5.0",
            "_model_name": "DescriptionStyleModel",
            "_view_count": null,
            "_view_module": "@jupyter-widgets/base",
            "_view_module_version": "1.2.0",
            "_view_name": "StyleView",
            "description_width": ""
          }
        },
        "e2a861ebea70404c8f516c3ad5744e81": {
          "model_module": "@jupyter-widgets/controls",
          "model_module_version": "1.5.0",
          "model_name": "DescriptionStyleModel",
          "state": {
            "_model_module": "@jupyter-widgets/controls",
            "_model_module_version": "1.5.0",
            "_model_name": "DescriptionStyleModel",
            "_view_count": null,
            "_view_module": "@jupyter-widgets/base",
            "_view_module_version": "1.2.0",
            "_view_name": "StyleView",
            "description_width": ""
          }
        },
        "e4827eb3804e4e54a6892897124bd7d1": {
          "model_module": "@jupyter-widgets/base",
          "model_module_version": "1.2.0",
          "model_name": "LayoutModel",
          "state": {
            "_model_module": "@jupyter-widgets/base",
            "_model_module_version": "1.2.0",
            "_model_name": "LayoutModel",
            "_view_count": null,
            "_view_module": "@jupyter-widgets/base",
            "_view_module_version": "1.2.0",
            "_view_name": "LayoutView",
            "align_content": null,
            "align_items": null,
            "align_self": null,
            "border": null,
            "bottom": null,
            "display": null,
            "flex": null,
            "flex_flow": null,
            "grid_area": null,
            "grid_auto_columns": null,
            "grid_auto_flow": null,
            "grid_auto_rows": null,
            "grid_column": null,
            "grid_gap": null,
            "grid_row": null,
            "grid_template_areas": null,
            "grid_template_columns": null,
            "grid_template_rows": null,
            "height": null,
            "justify_content": null,
            "justify_items": null,
            "left": null,
            "margin": null,
            "max_height": null,
            "max_width": null,
            "min_height": null,
            "min_width": null,
            "object_fit": null,
            "object_position": null,
            "order": null,
            "overflow": null,
            "overflow_x": null,
            "overflow_y": null,
            "padding": null,
            "right": null,
            "top": null,
            "visibility": null,
            "width": null
          }
        },
        "ec5e1613f02747e39f2c70133252ca63": {
          "model_module": "@jupyter-widgets/base",
          "model_module_version": "1.2.0",
          "model_name": "LayoutModel",
          "state": {
            "_model_module": "@jupyter-widgets/base",
            "_model_module_version": "1.2.0",
            "_model_name": "LayoutModel",
            "_view_count": null,
            "_view_module": "@jupyter-widgets/base",
            "_view_module_version": "1.2.0",
            "_view_name": "LayoutView",
            "align_content": null,
            "align_items": null,
            "align_self": null,
            "border": null,
            "bottom": null,
            "display": null,
            "flex": null,
            "flex_flow": null,
            "grid_area": null,
            "grid_auto_columns": null,
            "grid_auto_flow": null,
            "grid_auto_rows": null,
            "grid_column": null,
            "grid_gap": null,
            "grid_row": null,
            "grid_template_areas": null,
            "grid_template_columns": null,
            "grid_template_rows": null,
            "height": null,
            "justify_content": null,
            "justify_items": null,
            "left": null,
            "margin": null,
            "max_height": null,
            "max_width": null,
            "min_height": null,
            "min_width": null,
            "object_fit": null,
            "object_position": null,
            "order": null,
            "overflow": null,
            "overflow_x": null,
            "overflow_y": null,
            "padding": null,
            "right": null,
            "top": null,
            "visibility": null,
            "width": null
          }
        },
        "f3fe36da549b42cab7826270342f4815": {
          "model_module": "@jupyter-widgets/base",
          "model_module_version": "1.2.0",
          "model_name": "LayoutModel",
          "state": {
            "_model_module": "@jupyter-widgets/base",
            "_model_module_version": "1.2.0",
            "_model_name": "LayoutModel",
            "_view_count": null,
            "_view_module": "@jupyter-widgets/base",
            "_view_module_version": "1.2.0",
            "_view_name": "LayoutView",
            "align_content": null,
            "align_items": null,
            "align_self": null,
            "border": null,
            "bottom": null,
            "display": null,
            "flex": null,
            "flex_flow": null,
            "grid_area": null,
            "grid_auto_columns": null,
            "grid_auto_flow": null,
            "grid_auto_rows": null,
            "grid_column": null,
            "grid_gap": null,
            "grid_row": null,
            "grid_template_areas": null,
            "grid_template_columns": null,
            "grid_template_rows": null,
            "height": null,
            "justify_content": null,
            "justify_items": null,
            "left": null,
            "margin": null,
            "max_height": null,
            "max_width": null,
            "min_height": null,
            "min_width": null,
            "object_fit": null,
            "object_position": null,
            "order": null,
            "overflow": null,
            "overflow_x": null,
            "overflow_y": null,
            "padding": null,
            "right": null,
            "top": null,
            "visibility": null,
            "width": null
          }
        }
      }
    }
  },
  "nbformat": 4,
  "nbformat_minor": 0
}
