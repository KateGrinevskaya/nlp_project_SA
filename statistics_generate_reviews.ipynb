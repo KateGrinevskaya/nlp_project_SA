{
  "nbformat": 4,
  "nbformat_minor": 0,
  "metadata": {
    "colab": {
      "name": "statistics_generate_reviews.ipynb",
      "provenance": [],
      "collapsed_sections": []
    },
    "kernelspec": {
      "name": "python3",
      "display_name": "Python 3"
    },
    "language_info": {
      "name": "python"
    },
    "widgets": {
      "application/vnd.jupyter.widget-state+json": {
        "3191ea2e93e947c3b3789c09ffa8e8d8": {
          "model_module": "@jupyter-widgets/controls",
          "model_name": "HBoxModel",
          "model_module_version": "1.5.0",
          "state": {
            "_view_name": "HBoxView",
            "_dom_classes": [],
            "_model_name": "HBoxModel",
            "_view_module": "@jupyter-widgets/controls",
            "_model_module_version": "1.5.0",
            "_view_count": null,
            "_view_module_version": "1.5.0",
            "box_style": "",
            "layout": "IPY_MODEL_e218a04c8d274ee4b06f324d9c2258fb",
            "_model_module": "@jupyter-widgets/controls",
            "children": [
              "IPY_MODEL_708119a2ec7d4004be47d720b629b460",
              "IPY_MODEL_8d1d48ae9f4249a7b210018ab0f0a665",
              "IPY_MODEL_11d59c151bb446e6955d7cb831b1cab6"
            ]
          }
        },
        "e218a04c8d274ee4b06f324d9c2258fb": {
          "model_module": "@jupyter-widgets/base",
          "model_name": "LayoutModel",
          "model_module_version": "1.2.0",
          "state": {
            "_view_name": "LayoutView",
            "grid_template_rows": null,
            "right": null,
            "justify_content": null,
            "_view_module": "@jupyter-widgets/base",
            "overflow": null,
            "_model_module_version": "1.2.0",
            "_view_count": null,
            "flex_flow": null,
            "width": null,
            "min_width": null,
            "border": null,
            "align_items": null,
            "bottom": null,
            "_model_module": "@jupyter-widgets/base",
            "top": null,
            "grid_column": null,
            "overflow_y": null,
            "overflow_x": null,
            "grid_auto_flow": null,
            "grid_area": null,
            "grid_template_columns": null,
            "flex": null,
            "_model_name": "LayoutModel",
            "justify_items": null,
            "grid_row": null,
            "max_height": null,
            "align_content": null,
            "visibility": null,
            "align_self": null,
            "height": null,
            "min_height": null,
            "padding": null,
            "grid_auto_rows": null,
            "grid_gap": null,
            "max_width": null,
            "order": null,
            "_view_module_version": "1.2.0",
            "grid_template_areas": null,
            "object_position": null,
            "object_fit": null,
            "grid_auto_columns": null,
            "margin": null,
            "display": null,
            "left": null
          }
        },
        "708119a2ec7d4004be47d720b629b460": {
          "model_module": "@jupyter-widgets/controls",
          "model_name": "HTMLModel",
          "model_module_version": "1.5.0",
          "state": {
            "_view_name": "HTMLView",
            "style": "IPY_MODEL_c27a0dfefe1e460f96cca062b576a461",
            "_dom_classes": [],
            "description": "",
            "_model_name": "HTMLModel",
            "placeholder": "​",
            "_view_module": "@jupyter-widgets/controls",
            "_model_module_version": "1.5.0",
            "value": "Downloading https://raw.githubusercontent.com/stanfordnlp/stanza-resources/main/resources_1.3.0.json: ",
            "_view_count": null,
            "_view_module_version": "1.5.0",
            "description_tooltip": null,
            "_model_module": "@jupyter-widgets/controls",
            "layout": "IPY_MODEL_855deb63567047c794d189c47e92c50b"
          }
        },
        "8d1d48ae9f4249a7b210018ab0f0a665": {
          "model_module": "@jupyter-widgets/controls",
          "model_name": "FloatProgressModel",
          "model_module_version": "1.5.0",
          "state": {
            "_view_name": "ProgressView",
            "style": "IPY_MODEL_f75db671fe43402d8716e3fcdad18bf9",
            "_dom_classes": [],
            "description": "",
            "_model_name": "FloatProgressModel",
            "bar_style": "success",
            "max": 24459,
            "_view_module": "@jupyter-widgets/controls",
            "_model_module_version": "1.5.0",
            "value": 24459,
            "_view_count": null,
            "_view_module_version": "1.5.0",
            "orientation": "horizontal",
            "min": 0,
            "description_tooltip": null,
            "_model_module": "@jupyter-widgets/controls",
            "layout": "IPY_MODEL_3196e4d6064947ddb29756b30823ba64"
          }
        },
        "11d59c151bb446e6955d7cb831b1cab6": {
          "model_module": "@jupyter-widgets/controls",
          "model_name": "HTMLModel",
          "model_module_version": "1.5.0",
          "state": {
            "_view_name": "HTMLView",
            "style": "IPY_MODEL_4b6c390319a04e90938d0f83b462994e",
            "_dom_classes": [],
            "description": "",
            "_model_name": "HTMLModel",
            "placeholder": "​",
            "_view_module": "@jupyter-widgets/controls",
            "_model_module_version": "1.5.0",
            "value": " 142k/? [00:00&lt;00:00, 3.37MB/s]",
            "_view_count": null,
            "_view_module_version": "1.5.0",
            "description_tooltip": null,
            "_model_module": "@jupyter-widgets/controls",
            "layout": "IPY_MODEL_16064ca29fbe4a3c8910d1b6b807c592"
          }
        },
        "c27a0dfefe1e460f96cca062b576a461": {
          "model_module": "@jupyter-widgets/controls",
          "model_name": "DescriptionStyleModel",
          "model_module_version": "1.5.0",
          "state": {
            "_view_name": "StyleView",
            "_model_name": "DescriptionStyleModel",
            "description_width": "",
            "_view_module": "@jupyter-widgets/base",
            "_model_module_version": "1.5.0",
            "_view_count": null,
            "_view_module_version": "1.2.0",
            "_model_module": "@jupyter-widgets/controls"
          }
        },
        "855deb63567047c794d189c47e92c50b": {
          "model_module": "@jupyter-widgets/base",
          "model_name": "LayoutModel",
          "model_module_version": "1.2.0",
          "state": {
            "_view_name": "LayoutView",
            "grid_template_rows": null,
            "right": null,
            "justify_content": null,
            "_view_module": "@jupyter-widgets/base",
            "overflow": null,
            "_model_module_version": "1.2.0",
            "_view_count": null,
            "flex_flow": null,
            "width": null,
            "min_width": null,
            "border": null,
            "align_items": null,
            "bottom": null,
            "_model_module": "@jupyter-widgets/base",
            "top": null,
            "grid_column": null,
            "overflow_y": null,
            "overflow_x": null,
            "grid_auto_flow": null,
            "grid_area": null,
            "grid_template_columns": null,
            "flex": null,
            "_model_name": "LayoutModel",
            "justify_items": null,
            "grid_row": null,
            "max_height": null,
            "align_content": null,
            "visibility": null,
            "align_self": null,
            "height": null,
            "min_height": null,
            "padding": null,
            "grid_auto_rows": null,
            "grid_gap": null,
            "max_width": null,
            "order": null,
            "_view_module_version": "1.2.0",
            "grid_template_areas": null,
            "object_position": null,
            "object_fit": null,
            "grid_auto_columns": null,
            "margin": null,
            "display": null,
            "left": null
          }
        },
        "f75db671fe43402d8716e3fcdad18bf9": {
          "model_module": "@jupyter-widgets/controls",
          "model_name": "ProgressStyleModel",
          "model_module_version": "1.5.0",
          "state": {
            "_view_name": "StyleView",
            "_model_name": "ProgressStyleModel",
            "description_width": "",
            "_view_module": "@jupyter-widgets/base",
            "_model_module_version": "1.5.0",
            "_view_count": null,
            "_view_module_version": "1.2.0",
            "bar_color": null,
            "_model_module": "@jupyter-widgets/controls"
          }
        },
        "3196e4d6064947ddb29756b30823ba64": {
          "model_module": "@jupyter-widgets/base",
          "model_name": "LayoutModel",
          "model_module_version": "1.2.0",
          "state": {
            "_view_name": "LayoutView",
            "grid_template_rows": null,
            "right": null,
            "justify_content": null,
            "_view_module": "@jupyter-widgets/base",
            "overflow": null,
            "_model_module_version": "1.2.0",
            "_view_count": null,
            "flex_flow": null,
            "width": null,
            "min_width": null,
            "border": null,
            "align_items": null,
            "bottom": null,
            "_model_module": "@jupyter-widgets/base",
            "top": null,
            "grid_column": null,
            "overflow_y": null,
            "overflow_x": null,
            "grid_auto_flow": null,
            "grid_area": null,
            "grid_template_columns": null,
            "flex": null,
            "_model_name": "LayoutModel",
            "justify_items": null,
            "grid_row": null,
            "max_height": null,
            "align_content": null,
            "visibility": null,
            "align_self": null,
            "height": null,
            "min_height": null,
            "padding": null,
            "grid_auto_rows": null,
            "grid_gap": null,
            "max_width": null,
            "order": null,
            "_view_module_version": "1.2.0",
            "grid_template_areas": null,
            "object_position": null,
            "object_fit": null,
            "grid_auto_columns": null,
            "margin": null,
            "display": null,
            "left": null
          }
        },
        "4b6c390319a04e90938d0f83b462994e": {
          "model_module": "@jupyter-widgets/controls",
          "model_name": "DescriptionStyleModel",
          "model_module_version": "1.5.0",
          "state": {
            "_view_name": "StyleView",
            "_model_name": "DescriptionStyleModel",
            "description_width": "",
            "_view_module": "@jupyter-widgets/base",
            "_model_module_version": "1.5.0",
            "_view_count": null,
            "_view_module_version": "1.2.0",
            "_model_module": "@jupyter-widgets/controls"
          }
        },
        "16064ca29fbe4a3c8910d1b6b807c592": {
          "model_module": "@jupyter-widgets/base",
          "model_name": "LayoutModel",
          "model_module_version": "1.2.0",
          "state": {
            "_view_name": "LayoutView",
            "grid_template_rows": null,
            "right": null,
            "justify_content": null,
            "_view_module": "@jupyter-widgets/base",
            "overflow": null,
            "_model_module_version": "1.2.0",
            "_view_count": null,
            "flex_flow": null,
            "width": null,
            "min_width": null,
            "border": null,
            "align_items": null,
            "bottom": null,
            "_model_module": "@jupyter-widgets/base",
            "top": null,
            "grid_column": null,
            "overflow_y": null,
            "overflow_x": null,
            "grid_auto_flow": null,
            "grid_area": null,
            "grid_template_columns": null,
            "flex": null,
            "_model_name": "LayoutModel",
            "justify_items": null,
            "grid_row": null,
            "max_height": null,
            "align_content": null,
            "visibility": null,
            "align_self": null,
            "height": null,
            "min_height": null,
            "padding": null,
            "grid_auto_rows": null,
            "grid_gap": null,
            "max_width": null,
            "order": null,
            "_view_module_version": "1.2.0",
            "grid_template_areas": null,
            "object_position": null,
            "object_fit": null,
            "grid_auto_columns": null,
            "margin": null,
            "display": null,
            "left": null
          }
        },
        "75670440ac1049db8ec82d6341e70927": {
          "model_module": "@jupyter-widgets/controls",
          "model_name": "HBoxModel",
          "model_module_version": "1.5.0",
          "state": {
            "_view_name": "HBoxView",
            "_dom_classes": [],
            "_model_name": "HBoxModel",
            "_view_module": "@jupyter-widgets/controls",
            "_model_module_version": "1.5.0",
            "_view_count": null,
            "_view_module_version": "1.5.0",
            "box_style": "",
            "layout": "IPY_MODEL_592f17e7a55a4f6b8bf044c2ec18b183",
            "_model_module": "@jupyter-widgets/controls",
            "children": [
              "IPY_MODEL_31bef32a094348da8350d6503bbc81a9",
              "IPY_MODEL_cd2aa8c1aaf1436a9d936f54e0b97add",
              "IPY_MODEL_13ba134b327d4935adc44d2ffd9e2760"
            ]
          }
        },
        "592f17e7a55a4f6b8bf044c2ec18b183": {
          "model_module": "@jupyter-widgets/base",
          "model_name": "LayoutModel",
          "model_module_version": "1.2.0",
          "state": {
            "_view_name": "LayoutView",
            "grid_template_rows": null,
            "right": null,
            "justify_content": null,
            "_view_module": "@jupyter-widgets/base",
            "overflow": null,
            "_model_module_version": "1.2.0",
            "_view_count": null,
            "flex_flow": null,
            "width": null,
            "min_width": null,
            "border": null,
            "align_items": null,
            "bottom": null,
            "_model_module": "@jupyter-widgets/base",
            "top": null,
            "grid_column": null,
            "overflow_y": null,
            "overflow_x": null,
            "grid_auto_flow": null,
            "grid_area": null,
            "grid_template_columns": null,
            "flex": null,
            "_model_name": "LayoutModel",
            "justify_items": null,
            "grid_row": null,
            "max_height": null,
            "align_content": null,
            "visibility": null,
            "align_self": null,
            "height": null,
            "min_height": null,
            "padding": null,
            "grid_auto_rows": null,
            "grid_gap": null,
            "max_width": null,
            "order": null,
            "_view_module_version": "1.2.0",
            "grid_template_areas": null,
            "object_position": null,
            "object_fit": null,
            "grid_auto_columns": null,
            "margin": null,
            "display": null,
            "left": null
          }
        },
        "31bef32a094348da8350d6503bbc81a9": {
          "model_module": "@jupyter-widgets/controls",
          "model_name": "HTMLModel",
          "model_module_version": "1.5.0",
          "state": {
            "_view_name": "HTMLView",
            "style": "IPY_MODEL_f15464a5652647a1bc3a1d4af0a320cb",
            "_dom_classes": [],
            "description": "",
            "_model_name": "HTMLModel",
            "placeholder": "​",
            "_view_module": "@jupyter-widgets/controls",
            "_model_module_version": "1.5.0",
            "value": "100%",
            "_view_count": null,
            "_view_module_version": "1.5.0",
            "description_tooltip": null,
            "_model_module": "@jupyter-widgets/controls",
            "layout": "IPY_MODEL_8022ce54764f416b9f91751e5e6e1dcc"
          }
        },
        "cd2aa8c1aaf1436a9d936f54e0b97add": {
          "model_module": "@jupyter-widgets/controls",
          "model_name": "FloatProgressModel",
          "model_module_version": "1.5.0",
          "state": {
            "_view_name": "ProgressView",
            "style": "IPY_MODEL_388dc697b9b44c9dbdeefb201ae6db43",
            "_dom_classes": [],
            "description": "",
            "_model_name": "FloatProgressModel",
            "bar_style": "success",
            "max": 1509,
            "_view_module": "@jupyter-widgets/controls",
            "_model_module_version": "1.5.0",
            "value": 1509,
            "_view_count": null,
            "_view_module_version": "1.5.0",
            "orientation": "horizontal",
            "min": 0,
            "description_tooltip": null,
            "_model_module": "@jupyter-widgets/controls",
            "layout": "IPY_MODEL_bf317322c29544a5996999c255aaca16"
          }
        },
        "13ba134b327d4935adc44d2ffd9e2760": {
          "model_module": "@jupyter-widgets/controls",
          "model_name": "HTMLModel",
          "model_module_version": "1.5.0",
          "state": {
            "_view_name": "HTMLView",
            "style": "IPY_MODEL_cca3a830c2ab40faa57cc1143155a35b",
            "_dom_classes": [],
            "description": "",
            "_model_name": "HTMLModel",
            "placeholder": "​",
            "_view_module": "@jupyter-widgets/controls",
            "_model_module_version": "1.5.0",
            "value": " 1509/1509 [28:11&lt;00:00,  1.17s/it]",
            "_view_count": null,
            "_view_module_version": "1.5.0",
            "description_tooltip": null,
            "_model_module": "@jupyter-widgets/controls",
            "layout": "IPY_MODEL_f069b83d9fce40c1ab155480a8cce2f0"
          }
        },
        "f15464a5652647a1bc3a1d4af0a320cb": {
          "model_module": "@jupyter-widgets/controls",
          "model_name": "DescriptionStyleModel",
          "model_module_version": "1.5.0",
          "state": {
            "_view_name": "StyleView",
            "_model_name": "DescriptionStyleModel",
            "description_width": "",
            "_view_module": "@jupyter-widgets/base",
            "_model_module_version": "1.5.0",
            "_view_count": null,
            "_view_module_version": "1.2.0",
            "_model_module": "@jupyter-widgets/controls"
          }
        },
        "8022ce54764f416b9f91751e5e6e1dcc": {
          "model_module": "@jupyter-widgets/base",
          "model_name": "LayoutModel",
          "model_module_version": "1.2.0",
          "state": {
            "_view_name": "LayoutView",
            "grid_template_rows": null,
            "right": null,
            "justify_content": null,
            "_view_module": "@jupyter-widgets/base",
            "overflow": null,
            "_model_module_version": "1.2.0",
            "_view_count": null,
            "flex_flow": null,
            "width": null,
            "min_width": null,
            "border": null,
            "align_items": null,
            "bottom": null,
            "_model_module": "@jupyter-widgets/base",
            "top": null,
            "grid_column": null,
            "overflow_y": null,
            "overflow_x": null,
            "grid_auto_flow": null,
            "grid_area": null,
            "grid_template_columns": null,
            "flex": null,
            "_model_name": "LayoutModel",
            "justify_items": null,
            "grid_row": null,
            "max_height": null,
            "align_content": null,
            "visibility": null,
            "align_self": null,
            "height": null,
            "min_height": null,
            "padding": null,
            "grid_auto_rows": null,
            "grid_gap": null,
            "max_width": null,
            "order": null,
            "_view_module_version": "1.2.0",
            "grid_template_areas": null,
            "object_position": null,
            "object_fit": null,
            "grid_auto_columns": null,
            "margin": null,
            "display": null,
            "left": null
          }
        },
        "388dc697b9b44c9dbdeefb201ae6db43": {
          "model_module": "@jupyter-widgets/controls",
          "model_name": "ProgressStyleModel",
          "model_module_version": "1.5.0",
          "state": {
            "_view_name": "StyleView",
            "_model_name": "ProgressStyleModel",
            "description_width": "",
            "_view_module": "@jupyter-widgets/base",
            "_model_module_version": "1.5.0",
            "_view_count": null,
            "_view_module_version": "1.2.0",
            "bar_color": null,
            "_model_module": "@jupyter-widgets/controls"
          }
        },
        "bf317322c29544a5996999c255aaca16": {
          "model_module": "@jupyter-widgets/base",
          "model_name": "LayoutModel",
          "model_module_version": "1.2.0",
          "state": {
            "_view_name": "LayoutView",
            "grid_template_rows": null,
            "right": null,
            "justify_content": null,
            "_view_module": "@jupyter-widgets/base",
            "overflow": null,
            "_model_module_version": "1.2.0",
            "_view_count": null,
            "flex_flow": null,
            "width": null,
            "min_width": null,
            "border": null,
            "align_items": null,
            "bottom": null,
            "_model_module": "@jupyter-widgets/base",
            "top": null,
            "grid_column": null,
            "overflow_y": null,
            "overflow_x": null,
            "grid_auto_flow": null,
            "grid_area": null,
            "grid_template_columns": null,
            "flex": null,
            "_model_name": "LayoutModel",
            "justify_items": null,
            "grid_row": null,
            "max_height": null,
            "align_content": null,
            "visibility": null,
            "align_self": null,
            "height": null,
            "min_height": null,
            "padding": null,
            "grid_auto_rows": null,
            "grid_gap": null,
            "max_width": null,
            "order": null,
            "_view_module_version": "1.2.0",
            "grid_template_areas": null,
            "object_position": null,
            "object_fit": null,
            "grid_auto_columns": null,
            "margin": null,
            "display": null,
            "left": null
          }
        },
        "cca3a830c2ab40faa57cc1143155a35b": {
          "model_module": "@jupyter-widgets/controls",
          "model_name": "DescriptionStyleModel",
          "model_module_version": "1.5.0",
          "state": {
            "_view_name": "StyleView",
            "_model_name": "DescriptionStyleModel",
            "description_width": "",
            "_view_module": "@jupyter-widgets/base",
            "_model_module_version": "1.5.0",
            "_view_count": null,
            "_view_module_version": "1.2.0",
            "_model_module": "@jupyter-widgets/controls"
          }
        },
        "f069b83d9fce40c1ab155480a8cce2f0": {
          "model_module": "@jupyter-widgets/base",
          "model_name": "LayoutModel",
          "model_module_version": "1.2.0",
          "state": {
            "_view_name": "LayoutView",
            "grid_template_rows": null,
            "right": null,
            "justify_content": null,
            "_view_module": "@jupyter-widgets/base",
            "overflow": null,
            "_model_module_version": "1.2.0",
            "_view_count": null,
            "flex_flow": null,
            "width": null,
            "min_width": null,
            "border": null,
            "align_items": null,
            "bottom": null,
            "_model_module": "@jupyter-widgets/base",
            "top": null,
            "grid_column": null,
            "overflow_y": null,
            "overflow_x": null,
            "grid_auto_flow": null,
            "grid_area": null,
            "grid_template_columns": null,
            "flex": null,
            "_model_name": "LayoutModel",
            "justify_items": null,
            "grid_row": null,
            "max_height": null,
            "align_content": null,
            "visibility": null,
            "align_self": null,
            "height": null,
            "min_height": null,
            "padding": null,
            "grid_auto_rows": null,
            "grid_gap": null,
            "max_width": null,
            "order": null,
            "_view_module_version": "1.2.0",
            "grid_template_areas": null,
            "object_position": null,
            "object_fit": null,
            "grid_auto_columns": null,
            "margin": null,
            "display": null,
            "left": null
          }
        },
        "848d17e9618f4b9eb6c3985eb9e5c5ff": {
          "model_module": "@jupyter-widgets/controls",
          "model_name": "HBoxModel",
          "model_module_version": "1.5.0",
          "state": {
            "_view_name": "HBoxView",
            "_dom_classes": [],
            "_model_name": "HBoxModel",
            "_view_module": "@jupyter-widgets/controls",
            "_model_module_version": "1.5.0",
            "_view_count": null,
            "_view_module_version": "1.5.0",
            "box_style": "",
            "layout": "IPY_MODEL_cd73d168252d460aa457f12eab8794cd",
            "_model_module": "@jupyter-widgets/controls",
            "children": [
              "IPY_MODEL_98ab38f165994295813d78267dcd66ce",
              "IPY_MODEL_3b0660153e6944e8a648ce05d094a34d",
              "IPY_MODEL_3d00946fcf8f4b4cbe33618fdac03956"
            ]
          }
        },
        "cd73d168252d460aa457f12eab8794cd": {
          "model_module": "@jupyter-widgets/base",
          "model_name": "LayoutModel",
          "model_module_version": "1.2.0",
          "state": {
            "_view_name": "LayoutView",
            "grid_template_rows": null,
            "right": null,
            "justify_content": null,
            "_view_module": "@jupyter-widgets/base",
            "overflow": null,
            "_model_module_version": "1.2.0",
            "_view_count": null,
            "flex_flow": null,
            "width": null,
            "min_width": null,
            "border": null,
            "align_items": null,
            "bottom": null,
            "_model_module": "@jupyter-widgets/base",
            "top": null,
            "grid_column": null,
            "overflow_y": null,
            "overflow_x": null,
            "grid_auto_flow": null,
            "grid_area": null,
            "grid_template_columns": null,
            "flex": null,
            "_model_name": "LayoutModel",
            "justify_items": null,
            "grid_row": null,
            "max_height": null,
            "align_content": null,
            "visibility": null,
            "align_self": null,
            "height": null,
            "min_height": null,
            "padding": null,
            "grid_auto_rows": null,
            "grid_gap": null,
            "max_width": null,
            "order": null,
            "_view_module_version": "1.2.0",
            "grid_template_areas": null,
            "object_position": null,
            "object_fit": null,
            "grid_auto_columns": null,
            "margin": null,
            "display": null,
            "left": null
          }
        },
        "98ab38f165994295813d78267dcd66ce": {
          "model_module": "@jupyter-widgets/controls",
          "model_name": "HTMLModel",
          "model_module_version": "1.5.0",
          "state": {
            "_view_name": "HTMLView",
            "style": "IPY_MODEL_444e2018290742d1a6254d61ee4ce55f",
            "_dom_classes": [],
            "description": "",
            "_model_name": "HTMLModel",
            "placeholder": "​",
            "_view_module": "@jupyter-widgets/controls",
            "_model_module_version": "1.5.0",
            "value": "100%",
            "_view_count": null,
            "_view_module_version": "1.5.0",
            "description_tooltip": null,
            "_model_module": "@jupyter-widgets/controls",
            "layout": "IPY_MODEL_ebaa70fd845547b6a9c62dc363dcc431"
          }
        },
        "3b0660153e6944e8a648ce05d094a34d": {
          "model_module": "@jupyter-widgets/controls",
          "model_name": "FloatProgressModel",
          "model_module_version": "1.5.0",
          "state": {
            "_view_name": "ProgressView",
            "style": "IPY_MODEL_74e89b299fa245efabc4209e471ffa45",
            "_dom_classes": [],
            "description": "",
            "_model_name": "FloatProgressModel",
            "bar_style": "success",
            "max": 213,
            "_view_module": "@jupyter-widgets/controls",
            "_model_module_version": "1.5.0",
            "value": 213,
            "_view_count": null,
            "_view_module_version": "1.5.0",
            "orientation": "horizontal",
            "min": 0,
            "description_tooltip": null,
            "_model_module": "@jupyter-widgets/controls",
            "layout": "IPY_MODEL_b8d4f578951b48bf94d258f020675581"
          }
        },
        "3d00946fcf8f4b4cbe33618fdac03956": {
          "model_module": "@jupyter-widgets/controls",
          "model_name": "HTMLModel",
          "model_module_version": "1.5.0",
          "state": {
            "_view_name": "HTMLView",
            "style": "IPY_MODEL_9692be1227344713b91af7050dc26691",
            "_dom_classes": [],
            "description": "",
            "_model_name": "HTMLModel",
            "placeholder": "​",
            "_view_module": "@jupyter-widgets/controls",
            "_model_module_version": "1.5.0",
            "value": " 213/213 [05:25&lt;00:00,  1.55s/it]",
            "_view_count": null,
            "_view_module_version": "1.5.0",
            "description_tooltip": null,
            "_model_module": "@jupyter-widgets/controls",
            "layout": "IPY_MODEL_8e2c9e1bc0e24f0e8c0abccef7751cea"
          }
        },
        "444e2018290742d1a6254d61ee4ce55f": {
          "model_module": "@jupyter-widgets/controls",
          "model_name": "DescriptionStyleModel",
          "model_module_version": "1.5.0",
          "state": {
            "_view_name": "StyleView",
            "_model_name": "DescriptionStyleModel",
            "description_width": "",
            "_view_module": "@jupyter-widgets/base",
            "_model_module_version": "1.5.0",
            "_view_count": null,
            "_view_module_version": "1.2.0",
            "_model_module": "@jupyter-widgets/controls"
          }
        },
        "ebaa70fd845547b6a9c62dc363dcc431": {
          "model_module": "@jupyter-widgets/base",
          "model_name": "LayoutModel",
          "model_module_version": "1.2.0",
          "state": {
            "_view_name": "LayoutView",
            "grid_template_rows": null,
            "right": null,
            "justify_content": null,
            "_view_module": "@jupyter-widgets/base",
            "overflow": null,
            "_model_module_version": "1.2.0",
            "_view_count": null,
            "flex_flow": null,
            "width": null,
            "min_width": null,
            "border": null,
            "align_items": null,
            "bottom": null,
            "_model_module": "@jupyter-widgets/base",
            "top": null,
            "grid_column": null,
            "overflow_y": null,
            "overflow_x": null,
            "grid_auto_flow": null,
            "grid_area": null,
            "grid_template_columns": null,
            "flex": null,
            "_model_name": "LayoutModel",
            "justify_items": null,
            "grid_row": null,
            "max_height": null,
            "align_content": null,
            "visibility": null,
            "align_self": null,
            "height": null,
            "min_height": null,
            "padding": null,
            "grid_auto_rows": null,
            "grid_gap": null,
            "max_width": null,
            "order": null,
            "_view_module_version": "1.2.0",
            "grid_template_areas": null,
            "object_position": null,
            "object_fit": null,
            "grid_auto_columns": null,
            "margin": null,
            "display": null,
            "left": null
          }
        },
        "74e89b299fa245efabc4209e471ffa45": {
          "model_module": "@jupyter-widgets/controls",
          "model_name": "ProgressStyleModel",
          "model_module_version": "1.5.0",
          "state": {
            "_view_name": "StyleView",
            "_model_name": "ProgressStyleModel",
            "description_width": "",
            "_view_module": "@jupyter-widgets/base",
            "_model_module_version": "1.5.0",
            "_view_count": null,
            "_view_module_version": "1.2.0",
            "bar_color": null,
            "_model_module": "@jupyter-widgets/controls"
          }
        },
        "b8d4f578951b48bf94d258f020675581": {
          "model_module": "@jupyter-widgets/base",
          "model_name": "LayoutModel",
          "model_module_version": "1.2.0",
          "state": {
            "_view_name": "LayoutView",
            "grid_template_rows": null,
            "right": null,
            "justify_content": null,
            "_view_module": "@jupyter-widgets/base",
            "overflow": null,
            "_model_module_version": "1.2.0",
            "_view_count": null,
            "flex_flow": null,
            "width": null,
            "min_width": null,
            "border": null,
            "align_items": null,
            "bottom": null,
            "_model_module": "@jupyter-widgets/base",
            "top": null,
            "grid_column": null,
            "overflow_y": null,
            "overflow_x": null,
            "grid_auto_flow": null,
            "grid_area": null,
            "grid_template_columns": null,
            "flex": null,
            "_model_name": "LayoutModel",
            "justify_items": null,
            "grid_row": null,
            "max_height": null,
            "align_content": null,
            "visibility": null,
            "align_self": null,
            "height": null,
            "min_height": null,
            "padding": null,
            "grid_auto_rows": null,
            "grid_gap": null,
            "max_width": null,
            "order": null,
            "_view_module_version": "1.2.0",
            "grid_template_areas": null,
            "object_position": null,
            "object_fit": null,
            "grid_auto_columns": null,
            "margin": null,
            "display": null,
            "left": null
          }
        },
        "9692be1227344713b91af7050dc26691": {
          "model_module": "@jupyter-widgets/controls",
          "model_name": "DescriptionStyleModel",
          "model_module_version": "1.5.0",
          "state": {
            "_view_name": "StyleView",
            "_model_name": "DescriptionStyleModel",
            "description_width": "",
            "_view_module": "@jupyter-widgets/base",
            "_model_module_version": "1.5.0",
            "_view_count": null,
            "_view_module_version": "1.2.0",
            "_model_module": "@jupyter-widgets/controls"
          }
        },
        "8e2c9e1bc0e24f0e8c0abccef7751cea": {
          "model_module": "@jupyter-widgets/base",
          "model_name": "LayoutModel",
          "model_module_version": "1.2.0",
          "state": {
            "_view_name": "LayoutView",
            "grid_template_rows": null,
            "right": null,
            "justify_content": null,
            "_view_module": "@jupyter-widgets/base",
            "overflow": null,
            "_model_module_version": "1.2.0",
            "_view_count": null,
            "flex_flow": null,
            "width": null,
            "min_width": null,
            "border": null,
            "align_items": null,
            "bottom": null,
            "_model_module": "@jupyter-widgets/base",
            "top": null,
            "grid_column": null,
            "overflow_y": null,
            "overflow_x": null,
            "grid_auto_flow": null,
            "grid_area": null,
            "grid_template_columns": null,
            "flex": null,
            "_model_name": "LayoutModel",
            "justify_items": null,
            "grid_row": null,
            "max_height": null,
            "align_content": null,
            "visibility": null,
            "align_self": null,
            "height": null,
            "min_height": null,
            "padding": null,
            "grid_auto_rows": null,
            "grid_gap": null,
            "max_width": null,
            "order": null,
            "_view_module_version": "1.2.0",
            "grid_template_areas": null,
            "object_position": null,
            "object_fit": null,
            "grid_auto_columns": null,
            "margin": null,
            "display": null,
            "left": null
          }
        }
      }
    }
  },
  "cells": [
    {
      "cell_type": "markdown",
      "source": [
        "# Увеличиваем датасет с помощью синонимов."
      ],
      "metadata": {
        "id": "PpjLSDEJ006f"
      }
    },
    {
      "cell_type": "markdown",
      "source": [
        "## Импорты"
      ],
      "metadata": {
        "id": "hdOqrpbl1Cds"
      }
    },
    {
      "cell_type": "code",
      "source": [
        "# ! pip install stanza"
      ],
      "metadata": {
        "colab": {
          "base_uri": "https://localhost:8080/"
        },
        "id": "_C3UKjiPr7FF",
        "outputId": "c7a1d7a9-dd5c-43ce-81fa-0dc4bc43cf35"
      },
      "execution_count": null,
      "outputs": [
        {
          "output_type": "stream",
          "name": "stdout",
          "text": [
            "Collecting stanza\n",
            "  Downloading stanza-1.3.0-py3-none-any.whl (432 kB)\n",
            "\u001b[K     |████████████████████████████████| 432 kB 5.4 MB/s \n",
            "\u001b[?25hCollecting emoji\n",
            "  Downloading emoji-1.6.1.tar.gz (170 kB)\n",
            "\u001b[K     |████████████████████████████████| 170 kB 43.3 MB/s \n",
            "\u001b[?25hRequirement already satisfied: six in /usr/local/lib/python3.7/dist-packages (from stanza) (1.15.0)\n",
            "Requirement already satisfied: tqdm in /usr/local/lib/python3.7/dist-packages (from stanza) (4.62.3)\n",
            "Requirement already satisfied: requests in /usr/local/lib/python3.7/dist-packages (from stanza) (2.23.0)\n",
            "Requirement already satisfied: torch>=1.3.0 in /usr/local/lib/python3.7/dist-packages (from stanza) (1.10.0+cu111)\n",
            "Requirement already satisfied: numpy in /usr/local/lib/python3.7/dist-packages (from stanza) (1.19.5)\n",
            "Requirement already satisfied: protobuf in /usr/local/lib/python3.7/dist-packages (from stanza) (3.17.3)\n",
            "Requirement already satisfied: typing-extensions in /usr/local/lib/python3.7/dist-packages (from torch>=1.3.0->stanza) (3.10.0.2)\n",
            "Requirement already satisfied: idna<3,>=2.5 in /usr/local/lib/python3.7/dist-packages (from requests->stanza) (2.10)\n",
            "Requirement already satisfied: chardet<4,>=3.0.2 in /usr/local/lib/python3.7/dist-packages (from requests->stanza) (3.0.4)\n",
            "Requirement already satisfied: urllib3!=1.25.0,!=1.25.1,<1.26,>=1.21.1 in /usr/local/lib/python3.7/dist-packages (from requests->stanza) (1.24.3)\n",
            "Requirement already satisfied: certifi>=2017.4.17 in /usr/local/lib/python3.7/dist-packages (from requests->stanza) (2021.10.8)\n",
            "Building wheels for collected packages: emoji\n",
            "  Building wheel for emoji (setup.py) ... \u001b[?25l\u001b[?25hdone\n",
            "  Created wheel for emoji: filename=emoji-1.6.1-py3-none-any.whl size=169314 sha256=7166ac3fe6126f5464d042e24e72d20235fa9469fbc62458767a573230ab3e38\n",
            "  Stored in directory: /root/.cache/pip/wheels/ea/5f/d3/03d313ddb3c2a1a427bb4690f1621eea60fe6f2a30cc95940f\n",
            "Successfully built emoji\n",
            "Installing collected packages: emoji, stanza\n",
            "Successfully installed emoji-1.6.1 stanza-1.3.0\n"
          ]
        }
      ]
    },
    {
      "cell_type": "code",
      "source": [
        "import stanza"
      ],
      "metadata": {
        "id": "ZcmRTLmyr_wY"
      },
      "execution_count": 10,
      "outputs": []
    },
    {
      "cell_type": "code",
      "source": [
        "stanza.download(\"ru\")"
      ],
      "metadata": {
        "colab": {
          "base_uri": "https://localhost:8080/",
          "height": 129,
          "referenced_widgets": [
            "3191ea2e93e947c3b3789c09ffa8e8d8",
            "e218a04c8d274ee4b06f324d9c2258fb",
            "708119a2ec7d4004be47d720b629b460",
            "8d1d48ae9f4249a7b210018ab0f0a665",
            "11d59c151bb446e6955d7cb831b1cab6",
            "c27a0dfefe1e460f96cca062b576a461",
            "855deb63567047c794d189c47e92c50b",
            "f75db671fe43402d8716e3fcdad18bf9",
            "3196e4d6064947ddb29756b30823ba64",
            "4b6c390319a04e90938d0f83b462994e",
            "16064ca29fbe4a3c8910d1b6b807c592"
          ]
        },
        "id": "LHIDKwGFsCOR",
        "outputId": "f30be086-0927-4234-83dc-8796843a3a60"
      },
      "execution_count": 11,
      "outputs": [
        {
          "output_type": "display_data",
          "data": {
            "application/vnd.jupyter.widget-view+json": {
              "model_id": "3191ea2e93e947c3b3789c09ffa8e8d8",
              "version_minor": 0,
              "version_major": 2
            },
            "text/plain": [
              "Downloading https://raw.githubusercontent.com/stanfordnlp/stanza-resources/main/resources_1.3.0.json:   0%|   …"
            ]
          },
          "metadata": {}
        },
        {
          "output_type": "stream",
          "name": "stderr",
          "text": [
            "2021-12-26 22:50:09 INFO: Downloading default packages for language: ru (Russian)...\n",
            "2021-12-26 22:50:11 INFO: File exists: /root/stanza_resources/ru/default.zip.\n",
            "2021-12-26 22:50:18 INFO: Finished downloading models and saved to /root/stanza_resources.\n"
          ]
        }
      ]
    },
    {
      "cell_type": "code",
      "source": [
        "nlp = stanza.Pipeline(\"ru\")"
      ],
      "metadata": {
        "colab": {
          "base_uri": "https://localhost:8080/"
        },
        "id": "uslsoCf-sDHD",
        "outputId": "d92fa2d1-ceea-485f-8e7a-3f16df805017"
      },
      "execution_count": 12,
      "outputs": [
        {
          "output_type": "stream",
          "name": "stderr",
          "text": [
            "2021-12-26 22:50:18 INFO: Loading these models for language: ru (Russian):\n",
            "=========================\n",
            "| Processor | Package   |\n",
            "-------------------------\n",
            "| tokenize  | syntagrus |\n",
            "| pos       | syntagrus |\n",
            "| lemma     | syntagrus |\n",
            "| depparse  | syntagrus |\n",
            "| ner       | wikiner   |\n",
            "=========================\n",
            "\n",
            "2021-12-26 22:50:18 INFO: Use device: cpu\n",
            "2021-12-26 22:50:18 INFO: Loading: tokenize\n",
            "2021-12-26 22:50:18 INFO: Loading: pos\n",
            "2021-12-26 22:50:18 INFO: Loading: lemma\n",
            "2021-12-26 22:50:18 INFO: Loading: depparse\n",
            "2021-12-26 22:50:19 INFO: Loading: ner\n",
            "2021-12-26 22:50:20 INFO: Done loading processors!\n"
          ]
        }
      ]
    },
    {
      "cell_type": "code",
      "source": [
        "import nltk\n",
        "nltk.download('punkt')\n",
        "nltk.download('averaged_perceptron_tagger')\n",
        "nltk.download(\"stopwords\")\n",
        "from nltk.corpus import stopwords\n",
        "russian_stopwords = stopwords.words(\"english\")\n",
        "nltk.download('wordnet')\n",
        "from nltk.stem.wordnet import WordNetLemmatizer\n",
        "lemmatizer = WordNetLemmatizer()\n",
        "\n",
        "import gensim\n",
        "from gensim.models import KeyedVectors\n",
        "\n",
        "from string import punctuation\n",
        "import re\n",
        "from tqdm import tqdm_notebook\n",
        "from collections import Counter\n",
        "import pandas as pd"
      ],
      "metadata": {
        "colab": {
          "base_uri": "https://localhost:8080/"
        },
        "id": "eXcdb-hEoSyH",
        "outputId": "66a058d1-9901-4d62-c3f1-9e4d202b4fd4"
      },
      "execution_count": 2,
      "outputs": [
        {
          "output_type": "stream",
          "name": "stdout",
          "text": [
            "[nltk_data] Downloading package punkt to /root/nltk_data...\n",
            "[nltk_data]   Package punkt is already up-to-date!\n",
            "[nltk_data] Downloading package averaged_perceptron_tagger to\n",
            "[nltk_data]     /root/nltk_data...\n",
            "[nltk_data]   Package averaged_perceptron_tagger is already up-to-\n",
            "[nltk_data]       date!\n",
            "[nltk_data] Downloading package stopwords to /root/nltk_data...\n",
            "[nltk_data]   Package stopwords is already up-to-date!\n",
            "[nltk_data] Downloading package wordnet to /root/nltk_data...\n",
            "[nltk_data]   Package wordnet is already up-to-date!\n"
          ]
        }
      ]
    },
    {
      "cell_type": "markdown",
      "source": [
        "## Генерим новые тексты"
      ],
      "metadata": {
        "id": "Kt_e41Qb4L9D"
      }
    },
    {
      "cell_type": "markdown",
      "source": [
        "Читаем ревью"
      ],
      "metadata": {
        "id": "ZYwUE-B11G7R"
      }
    },
    {
      "cell_type": "code",
      "execution_count": 4,
      "metadata": {
        "id": "wziJqnwRlKRs"
      },
      "outputs": [],
      "source": [
        "with open ('train_split_reviews.txt', encoding='utf-8') as f:\n",
        "    data = f.readlines()"
      ]
    },
    {
      "cell_type": "markdown",
      "source": [
        "Читаем тексты"
      ],
      "metadata": {
        "id": "D7mXzyov1Ivi"
      }
    },
    {
      "cell_type": "code",
      "source": [
        "with open ('train_split_aspects.txt', encoding='utf-8') as f:\n",
        "    data_a = f.readlines()"
      ],
      "metadata": {
        "id": "tTt6RabUoj1L"
      },
      "execution_count": 5,
      "outputs": []
    },
    {
      "cell_type": "code",
      "source": [
        "aspects_lemmas = [lemmatizer.lemmatize(a.split('\\t')[2]) for a in data_a]"
      ],
      "metadata": {
        "id": "Jug5lENDomF-"
      },
      "execution_count": 6,
      "outputs": []
    },
    {
      "cell_type": "code",
      "source": [
        "aspects = list(set(aspects_lemmas))"
      ],
      "metadata": {
        "id": "Ua0vT-LzpPUr"
      },
      "execution_count": 7,
      "outputs": []
    },
    {
      "cell_type": "markdown",
      "source": [
        "Импортируем модель"
      ],
      "metadata": {
        "id": "8xBK-hV21P8V"
      }
    },
    {
      "cell_type": "code",
      "source": [
        "!wget http://vectors.nlpl.eu/repository/20/187.zip"
      ],
      "metadata": {
        "colab": {
          "base_uri": "https://localhost:8080/"
        },
        "id": "YTsShFrMns5u",
        "outputId": "3e403fe7-d22e-492c-d973-f428f9db8ca3"
      },
      "execution_count": null,
      "outputs": [
        {
          "output_type": "stream",
          "name": "stdout",
          "text": [
            "--2021-12-26 22:42:20--  http://vectors.nlpl.eu/repository/20/187.zip\n",
            "Resolving vectors.nlpl.eu (vectors.nlpl.eu)... 129.240.189.181\n",
            "Connecting to vectors.nlpl.eu (vectors.nlpl.eu)|129.240.189.181|:80... connected.\n",
            "HTTP request sent, awaiting response... 200 OK\n",
            "Length: 2692389554 (2.5G) [application/zip]\n",
            "Saving to: ‘187.zip’\n",
            "\n",
            "187.zip             100%[===================>]   2.51G  23.1MB/s    in 3m 11s  \n",
            "\n",
            "2021-12-26 22:45:33 (13.4 MB/s) - ‘187.zip’ saved [2692389554/2692389554]\n",
            "\n"
          ]
        }
      ]
    },
    {
      "cell_type": "code",
      "source": [
        "!unzip 187.zip"
      ],
      "metadata": {
        "colab": {
          "base_uri": "https://localhost:8080/"
        },
        "id": "g1qcnpyzoKxc",
        "outputId": "1848a558-7ccf-425f-a0cf-425241ce945a"
      },
      "execution_count": null,
      "outputs": [
        {
          "output_type": "stream",
          "name": "stdout",
          "text": [
            "Archive:  187.zip\n",
            "  inflating: meta.json               \n",
            "  inflating: model.model             \n",
            "  inflating: model.model.vectors_ngrams.npy  \n",
            "  inflating: model.model.vectors.npy  \n",
            "  inflating: model.model.vectors_vocab.npy  \n",
            "  inflating: README                  \n"
          ]
        }
      ]
    },
    {
      "cell_type": "code",
      "source": [
        "!pip install gensim==3.8.0"
      ],
      "metadata": {
        "colab": {
          "base_uri": "https://localhost:8080/",
          "height": 349
        },
        "id": "LnJwfOZJoML6",
        "outputId": "e41d1b8b-190a-491c-dd45-8ca205ad89cf"
      },
      "execution_count": null,
      "outputs": [
        {
          "output_type": "stream",
          "name": "stdout",
          "text": [
            "Collecting gensim==3.8.0\n",
            "  Downloading gensim-3.8.0-cp37-cp37m-manylinux1_x86_64.whl (24.2 MB)\n",
            "\u001b[K     |████████████████████████████████| 24.2 MB 1.5 MB/s \n",
            "\u001b[?25hRequirement already satisfied: six>=1.5.0 in /usr/local/lib/python3.7/dist-packages (from gensim==3.8.0) (1.15.0)\n",
            "Requirement already satisfied: scipy>=0.18.1 in /usr/local/lib/python3.7/dist-packages (from gensim==3.8.0) (1.4.1)\n",
            "Requirement already satisfied: smart-open>=1.7.0 in /usr/local/lib/python3.7/dist-packages (from gensim==3.8.0) (5.2.1)\n",
            "Requirement already satisfied: numpy>=1.11.3 in /usr/local/lib/python3.7/dist-packages (from gensim==3.8.0) (1.19.5)\n",
            "Installing collected packages: gensim\n",
            "  Attempting uninstall: gensim\n",
            "    Found existing installation: gensim 3.6.0\n",
            "    Uninstalling gensim-3.6.0:\n",
            "      Successfully uninstalled gensim-3.6.0\n",
            "Successfully installed gensim-3.8.0\n"
          ]
        },
        {
          "output_type": "display_data",
          "data": {
            "application/vnd.colab-display-data+json": {
              "pip_warning": {
                "packages": [
                  "gensim"
                ]
              }
            }
          },
          "metadata": {}
        }
      ]
    },
    {
      "cell_type": "code",
      "source": [
        "model = KeyedVectors.load(\"model.model\")"
      ],
      "metadata": {
        "id": "tfDWgyuKoPtm"
      },
      "execution_count": 8,
      "outputs": []
    },
    {
      "cell_type": "markdown",
      "source": [
        "Для каждого выделенного аспекта запоминаем часть речи вершины аспекта, затем в синонимах оставляем только те, которые совпадают по части речи с вершиной аспекта. Лемматизируем синонимы, проверяем, что не дублируемся.\n",
        "\n"
      ],
      "metadata": {
        "id": "xErQCMzC1d9a"
      }
    },
    {
      "cell_type": "code",
      "source": [
        "aspects_syn = {}\n",
        "for word in tqdm_notebook(aspects):\n",
        "    for t in nlp(word).sentences[0].words:\n",
        "        if t.deprel == 'root':\n",
        "            pos = t.upos\n",
        "    aspects_syn[word] = []\n",
        "    if word in model:\n",
        "        for (w, score) in model.wv.most_similar(word, topn=10):\n",
        "            nlpw = nlp(w).sentences[0].words[0]\n",
        "            if nlpw.lemma not in aspects_syn[word] and nlpw.upos == pos:\n",
        "                    aspects_syn[word].append(nlpw.lemma)"
      ],
      "metadata": {
        "colab": {
          "base_uri": "https://localhost:8080/",
          "height": 156,
          "referenced_widgets": [
            "75670440ac1049db8ec82d6341e70927",
            "592f17e7a55a4f6b8bf044c2ec18b183",
            "31bef32a094348da8350d6503bbc81a9",
            "cd2aa8c1aaf1436a9d936f54e0b97add",
            "13ba134b327d4935adc44d2ffd9e2760",
            "f15464a5652647a1bc3a1d4af0a320cb",
            "8022ce54764f416b9f91751e5e6e1dcc",
            "388dc697b9b44c9dbdeefb201ae6db43",
            "bf317322c29544a5996999c255aaca16",
            "cca3a830c2ab40faa57cc1143155a35b",
            "f069b83d9fce40c1ab155480a8cce2f0"
          ]
        },
        "id": "JCpXskaIpT2o",
        "outputId": "e484997b-c465-4c7a-cd4b-6dcfe03439b7"
      },
      "execution_count": 13,
      "outputs": [
        {
          "output_type": "stream",
          "name": "stderr",
          "text": [
            "/usr/local/lib/python3.7/dist-packages/ipykernel_launcher.py:2: TqdmDeprecationWarning: This function will be removed in tqdm==5.0.0\n",
            "Please use `tqdm.notebook.tqdm` instead of `tqdm.tqdm_notebook`\n",
            "  \n"
          ]
        },
        {
          "output_type": "display_data",
          "data": {
            "application/vnd.jupyter.widget-view+json": {
              "model_id": "75670440ac1049db8ec82d6341e70927",
              "version_minor": 0,
              "version_major": 2
            },
            "text/plain": [
              "  0%|          | 0/1509 [00:00<?, ?it/s]"
            ]
          },
          "metadata": {}
        },
        {
          "output_type": "stream",
          "name": "stderr",
          "text": [
            "/usr/local/lib/python3.7/dist-packages/ipykernel_launcher.py:8: DeprecationWarning: Call to deprecated `wv` (Attribute will be removed in 4.0.0, use self instead).\n",
            "  \n"
          ]
        }
      ]
    },
    {
      "cell_type": "code",
      "source": [
        "reviews_dict = {}\n",
        "for sent in data:\n",
        "    sent = sent.split('\\t')\n",
        "    reviews_dict[sent[0]] = sent[-1]"
      ],
      "metadata": {
        "id": "NKPnsjO-6Ejr"
      },
      "execution_count": 14,
      "outputs": []
    },
    {
      "cell_type": "code",
      "source": [
        "gen_reviews_dict = {}"
      ],
      "metadata": {
        "id": "Ihujf6JG6gq1"
      },
      "execution_count": 15,
      "outputs": []
    },
    {
      "cell_type": "markdown",
      "source": [
        "Заменяем аспекты на синонимы, если это возможно, если нет - оставляем вместо синонима аспект. Генерим предложения и составляем размеченные аспекты."
      ],
      "metadata": {
        "id": "cTIXKKox2Bw8"
      }
    },
    {
      "cell_type": "code",
      "source": [
        "to_change = []\n",
        "for k in tqdm_notebook(reviews_dict.keys()):\n",
        "    asps = []\n",
        "    for line in data_a:\n",
        "        if line.split('\\t')[0] == k:\n",
        "            asps.append(line)\n",
        "    for i, a in enumerate(asps):\n",
        "        sent_id, cat, asp, b, e, sen = a.split('\\t')\n",
        "        if len(aspects_syn[asp]) == 0:\n",
        "            try:\n",
        "                syn = aspects_syn[asp.lower()][0]\n",
        "            except:\n",
        "                syn = asp\n",
        "        else:\n",
        "            try:\n",
        "                syn = aspects_syn[asp.lower()][0]\n",
        "            except:\n",
        "                syn = aspects_syn[asp][0]\n",
        "            if syn == asp.lower():\n",
        "                try:\n",
        "                    syn = aspects_syn[asp.lower()][1]\n",
        "                except:\n",
        "                    syn = aspects_syn[asp][1]\n",
        "            if syn == nlp(asp).sentences[0].words[0].lemma:\n",
        "                try:\n",
        "                    syn = aspects_syn[asp][1]\n",
        "                except:\n",
        "                    pass\n",
        "        l = [sent_id+'a', cat, syn]\n",
        "        if i == 0:\n",
        "            sent = reviews_dict[sent_id]\n",
        "        else:\n",
        "            sent = gen_reviews_dict[sent_id+'a']\n",
        "        sent_change = re.sub(asp, syn, sent)\n",
        "        l.append(str(sent_change.find(syn)))\n",
        "        l.append(str(sent_change.find(syn)+len(syn)))\n",
        "        l.append(sen)\n",
        "        to_change.append(l)\n",
        "        gen_reviews_dict[sent_id+'a'] = sent_change"
      ],
      "metadata": {
        "id": "sCTqpYB8A0ok",
        "colab": {
          "base_uri": "https://localhost:8080/",
          "height": 121,
          "referenced_widgets": [
            "848d17e9618f4b9eb6c3985eb9e5c5ff",
            "cd73d168252d460aa457f12eab8794cd",
            "98ab38f165994295813d78267dcd66ce",
            "3b0660153e6944e8a648ce05d094a34d",
            "3d00946fcf8f4b4cbe33618fdac03956",
            "444e2018290742d1a6254d61ee4ce55f",
            "ebaa70fd845547b6a9c62dc363dcc431",
            "74e89b299fa245efabc4209e471ffa45",
            "b8d4f578951b48bf94d258f020675581",
            "9692be1227344713b91af7050dc26691",
            "8e2c9e1bc0e24f0e8c0abccef7751cea"
          ]
        },
        "outputId": "621e79a0-32ea-4c9e-a91a-3cd7721467a9"
      },
      "execution_count": 16,
      "outputs": [
        {
          "output_type": "stream",
          "name": "stderr",
          "text": [
            "/usr/local/lib/python3.7/dist-packages/ipykernel_launcher.py:2: TqdmDeprecationWarning: This function will be removed in tqdm==5.0.0\n",
            "Please use `tqdm.notebook.tqdm` instead of `tqdm.tqdm_notebook`\n",
            "  \n"
          ]
        },
        {
          "output_type": "display_data",
          "data": {
            "application/vnd.jupyter.widget-view+json": {
              "model_id": "848d17e9618f4b9eb6c3985eb9e5c5ff",
              "version_minor": 0,
              "version_major": 2
            },
            "text/plain": [
              "  0%|          | 0/213 [00:00<?, ?it/s]"
            ]
          },
          "metadata": {}
        }
      ]
    },
    {
      "cell_type": "code",
      "source": [
        "reviews_dict['11388']"
      ],
      "metadata": {
        "id": "aZIQcgU9CVa5",
        "colab": {
          "base_uri": "https://localhost:8080/",
          "height": 105
        },
        "outputId": "1add69f5-b68f-47b5-ca8f-63b67632926b"
      },
      "execution_count": 17,
      "outputs": [
        {
          "output_type": "execute_result",
          "data": {
            "application/vnd.google.colaboratory.intrinsic+json": {
              "type": "string"
            },
            "text/plain": [
              "'Несколько раз посещали с друзьями данный ресторан! В общем очень даже неплохо! Интерьер милый, всего в меру! Кухня понравилась! Последний раз были 21 января, отлично посидели! Была небольшая компания 5 человек. Очень понравился музыкальный коллектив, хорошая музыка! По обслуживанию претензий нет, хорошо встретили, проводили за столик (забронировали заранее в VIP зоне, стоимость 400 руб.). Официанты не заставляли себя долго ждать, очень все вежливо и обходительно! Вполне прилично место!\\n'"
            ]
          },
          "metadata": {},
          "execution_count": 17
        }
      ]
    },
    {
      "cell_type": "code",
      "source": [
        "gen_reviews_dict['11388a']"
      ],
      "metadata": {
        "id": "R_-bE5VmCvE2",
        "colab": {
          "base_uri": "https://localhost:8080/",
          "height": 105
        },
        "outputId": "d2b7988b-6f98-43bf-93dd-caa8e7a995e8"
      },
      "execution_count": 18,
      "outputs": [
        {
          "output_type": "execute_result",
          "data": {
            "application/vnd.google.colaboratory.intrinsic+json": {
              "type": "string"
            },
            "text/plain": [
              "'Несколько раз посещали с друзьями данный ресторанут! В общем очень даже неплохо! экстерьер милый, всего в меру! кухно понравилась! Последний раз были 21 января, отлично посидели! Была небольшая компания 5 человек. Очень понравился поп-музыкальность, хорошая поп-музыка! По медобслуживание претензий нет, хорошо повстречать, выпроводить (забронировали заранее в VIP зоне, стоимость 400 руб.). пант не заставляли себя долго ждать, очень все вежливо и обходительно! Вполне прилично местотец!\\n'"
            ]
          },
          "metadata": {},
          "execution_count": 18
        }
      ]
    },
    {
      "cell_type": "markdown",
      "source": [
        "Записываем в файлики."
      ],
      "metadata": {
        "id": "f3QYr--cKYRY"
      }
    },
    {
      "cell_type": "code",
      "source": [
        "with open('more_train_split_reviews.txt', 'a', encoding='utf-8') as f:\n",
        "    for line in data:\n",
        "        f.write(line+'\\r\\n')\n",
        "    for key, value in gen_reviews_dict.items():\n",
        "        f.write(key+'\\t'+value+'\\n')"
      ],
      "metadata": {
        "id": "KjXrVIZo_TeJ"
      },
      "execution_count": 19,
      "outputs": []
    },
    {
      "cell_type": "code",
      "source": [
        "with open('more_train_split_aspects.txt', 'a', encoding='utf-8') as f:\n",
        "    for line in data_a:\n",
        "        f.write(line)\n",
        "    for k in to_change:\n",
        "        f.write('\\t'.join(k))"
      ],
      "metadata": {
        "id": "1HC4qpuWMrDQ"
      },
      "execution_count": 20,
      "outputs": []
    },
    {
      "cell_type": "markdown",
      "source": [
        "## Dataset statistics"
      ],
      "metadata": {
        "id": "1q16twmE20EY"
      }
    },
    {
      "cell_type": "markdown",
      "source": [
        "Смотрим объём корпуса"
      ],
      "metadata": {
        "id": "hWca-ruz23fz"
      }
    },
    {
      "cell_type": "code",
      "source": [
        "with open ('train_reviews.txt', encoding='utf-8') as f:\n",
        "    data = f.readlines()\n",
        "len(data)"
      ],
      "metadata": {
        "id": "6MWQjCqZ3OPl",
        "colab": {
          "base_uri": "https://localhost:8080/"
        },
        "outputId": "9427b83f-2f31-4efb-bd29-0f8ecfd346b5"
      },
      "execution_count": 21,
      "outputs": [
        {
          "output_type": "execute_result",
          "data": {
            "text/plain": [
              "284"
            ]
          },
          "metadata": {},
          "execution_count": 21
        }
      ]
    },
    {
      "cell_type": "markdown",
      "source": [
        "Средняя длина отзыва."
      ],
      "metadata": {
        "id": "nHELhjzA3Un3"
      }
    },
    {
      "cell_type": "code",
      "source": [
        "def reviews_tuple(raw):\n",
        "    s_raw = raw.split('\\t')\n",
        "    return s_raw"
      ],
      "metadata": {
        "id": "7eTleZx13Wsz"
      },
      "execution_count": 22,
      "outputs": []
    },
    {
      "cell_type": "code",
      "source": [
        "reviews = [reviews_tuple(r) for r in data]\n",
        "texts = [r[-1] for r in reviews]\n",
        "lens = [len(i.split()) for i in texts]\n",
        "sum = 0\n",
        "for l in lens:\n",
        "    sum+=l\n",
        "sum/len(lens)"
      ],
      "metadata": {
        "id": "HC04g74V3Xa3",
        "colab": {
          "base_uri": "https://localhost:8080/"
        },
        "outputId": "2791aa29-0232-474b-b71f-43b6582a6336"
      },
      "execution_count": 23,
      "outputs": [
        {
          "output_type": "execute_result",
          "data": {
            "text/plain": [
              "129.46478873239437"
            ]
          },
          "metadata": {},
          "execution_count": 23
        }
      ]
    },
    {
      "cell_type": "markdown",
      "source": [
        "Среднее количество аспектов в тексте."
      ],
      "metadata": {
        "id": "byDudJZQlj9e"
      }
    },
    {
      "cell_type": "code",
      "source": [
        "num_aspects = []\n",
        "for k in reviews_dict.keys():\n",
        "    asps = 0\n",
        "    for line in data_a:\n",
        "        if line.split('\\t')[0] == k:\n",
        "            asps+=1\n",
        "    num_aspects.append(asps)\n",
        "\n",
        "sum = 0\n",
        "for l in num_aspects:\n",
        "    sum+=l\n",
        "sum/len(num_aspects)"
      ],
      "metadata": {
        "id": "ECfTOPUiNPWS",
        "colab": {
          "base_uri": "https://localhost:8080/"
        },
        "outputId": "96b71958-c76e-4bd5-a01a-ab2fd2749097"
      },
      "execution_count": 24,
      "outputs": [
        {
          "output_type": "execute_result",
          "data": {
            "text/plain": [
              "16.708920187793428"
            ]
          },
          "metadata": {},
          "execution_count": 24
        }
      ]
    },
    {
      "cell_type": "markdown",
      "source": [
        "Распределение оценок по категориям."
      ],
      "metadata": {
        "id": "boaoyEVHlog8"
      }
    },
    {
      "cell_type": "code",
      "source": [
        "with open ('train_split_cats.txt', encoding='utf-8') as f:\n",
        "    data_c = f.readlines()"
      ],
      "metadata": {
        "id": "bwbH35OuPBhT"
      },
      "execution_count": 25,
      "outputs": []
    },
    {
      "cell_type": "code",
      "source": [
        "food = []\n",
        "interior = []\n",
        "price=[]\n",
        "whole=[]\n",
        "service=[]\n",
        "for l in data_c:\n",
        "    c = l.split('\\t')[1]\n",
        "    s = l.split('\\t')[-1].replace('\\n', '')\n",
        "    if c=='Food':\n",
        "        food.append(s)\n",
        "    elif c=='Interior':\n",
        "        interior.append(s)\n",
        "    elif c=='Price':\n",
        "        price.append(s)\n",
        "    elif c=='Whole':\n",
        "        whole.append(s)\n",
        "    elif c=='Service':\n",
        "        service.append(s)"
      ],
      "metadata": {
        "id": "hiWkK3iHjlCQ"
      },
      "execution_count": 26,
      "outputs": []
    },
    {
      "cell_type": "code",
      "source": [
        "print('Food: positive = ', Counter(food)['positive']/len(food)*100, '%, negative = ', Counter(food)['negative']/len(food)*100, '%.')\n",
        "print('Interior: positive = ', Counter(interior)['positive']/len(interior)*100, '%, negative = ', Counter(interior)['negative']/len(interior)*100, '%.')\n",
        "print('Price: positive = ', Counter(price)['positive']/len(price)*100, '%, negative = ', Counter(price)['negative']/len(price)*100, '%.')\n",
        "print('Whole: positive = ', Counter(whole)['positive']/len(whole)*100, '%, negative = ', Counter(whole)['negative']/len(whole)*100, '%.')\n",
        "print('Service: positive = ', Counter(service)['positive']/len(service)*100, '%, negative = ', Counter(service)['negative']/len(service)*100, '%.')"
      ],
      "metadata": {
        "id": "KgJVIjwwnD7H",
        "colab": {
          "base_uri": "https://localhost:8080/"
        },
        "outputId": "f517d0b2-7631-4acb-affa-0f2a4b8c7ab2"
      },
      "execution_count": 27,
      "outputs": [
        {
          "output_type": "stream",
          "name": "stdout",
          "text": [
            "Food: positive =  71.36150234741784 %, negative =  7.981220657276995 %.\n",
            "Interior: positive =  65.25821596244131 %, negative =  4.225352112676056 %.\n",
            "Price: positive =  21.12676056338028 %, negative =  9.859154929577464 %.\n",
            "Whole: positive =  70.4225352112676 %, negative =  15.023474178403756 %.\n",
            "Service: positive =  62.91079812206573 %, negative =  17.84037558685446 %.\n"
          ]
        }
      ]
    },
    {
      "cell_type": "code",
      "source": [
        "with open('more_train_split_cats.txt', 'a', encoding='utf-8') as f:\n",
        "    for line in data_c:\n",
        "        f.write(line)\n",
        "    for k in to_change:\n",
        "        f.write('\\t'.join([k[0], k[1], k[-1]]))"
      ],
      "metadata": {
        "id": "OWzEFBBIOxm-"
      },
      "execution_count": 28,
      "outputs": []
    },
    {
      "cell_type": "code",
      "source": [
        ""
      ],
      "metadata": {
        "id": "4XpocepHD1wt"
      },
      "execution_count": null,
      "outputs": []
    }
  ]
}